{
 "cells": [
  {
   "cell_type": "markdown",
   "id": "fc792e9e",
   "metadata": {},
   "source": [
    "# COMP90051 Project 2\n",
    "**Name:** *Kechen Zhao*\n",
    "\n",
    "**Student ID:** *957398*"
   ]
  },
  {
   "cell_type": "code",
   "execution_count": 2,
   "id": "iraqi-recommendation",
   "metadata": {},
   "outputs": [],
   "source": [
    "# You can add additional imports here\n",
    "import numpy as np\n",
    "from matplotlib import pyplot as plt\n",
    "import os\n",
    "import random\n",
    "from sklearn.model_selection import train_test_split\n",
    "from collections import defaultdict\n",
    "\n",
    "import pandas as pd\n",
    "from sklearn.linear_model import LogisticRegression\n",
    "from sklearn import metrics\n",
    "import matplotlib.pyplot as plt\n",
    "from sklearn.linear_model import SGDClassifier\n",
    "from sklearn import svm\n",
    "import math\n",
    "from sklearn.cluster import AgglomerativeClustering\n",
    "import itertools\n",
    "from scipy.cluster.hierarchy import ward, fcluster, leaders, fclusterdata\n",
    "from scipy.spatial.distance import pdist\n",
    "from scipy.cluster import hierarchy\n",
    "import matplotlib.pyplot as plt"
   ]
  },
  {
   "cell_type": "code",
   "execution_count": 3,
   "id": "e5052765",
   "metadata": {},
   "outputs": [],
   "source": [
    "import warnings\n",
    "warnings.filterwarnings('ignore')"
   ]
  },
  {
   "cell_type": "markdown",
   "id": "defined-great",
   "metadata": {},
   "source": [
    "## 0. Loading the dataset"
   ]
  },
  {
   "cell_type": "code",
   "execution_count": 4,
   "id": "concerned-vessel",
   "metadata": {},
   "outputs": [],
   "source": [
    "# do not edit this cell\n",
    "# load the data files (download from the LMS)\n",
    "embedded_images = np.load('images.npy')\n",
    "labels = np.load('labels.npy')\n",
    "\n",
    "# split into pool & testing\n",
    "X_pool, X_test, y_pool, y_test = train_test_split(embedded_images, labels, \n",
    "                                                  test_size=0.5, random_state=1234, shuffle=True)\n",
    "\n",
    "# sample a seed set\n",
    "np.random.seed(1234)\n",
    "label2id = defaultdict(list)\n",
    "for i, label in enumerate(y_pool):\n",
    "    label2id[label].append(i)\n",
    "seed_set = []\n",
    "for label, ids in label2id.items():\n",
    "    seed_set.extend(np.random.choice(ids, size=10, replace=False))"
   ]
  },
  {
   "cell_type": "markdown",
   "id": "naval-income",
   "metadata": {},
   "source": [
    "## 1. Applying logistic regression"
   ]
  },
  {
   "cell_type": "code",
   "execution_count": 5,
   "id": "palestinian-preparation",
   "metadata": {},
   "outputs": [],
   "source": [
    "#def train_logistic_regression(X, y, **args):\n",
    "def train_logistic_regression(X, y, penalty, tol, C, max_iter, solver):\n",
    "    \"\"\"\n",
    "    Train a logistic regression model on dataset (X, y) and return trained model.\n",
    "    X: matrix of real values, size n x d\n",
    "    y: vector of string labels, size n\n",
    "    args: optional arguments e.g., for hyper-parameters\n",
    "    \"\"\"\n",
    "    # your code here\n",
    "    \n",
    "    model = LogisticRegression(penalty='none',tol = tol, C = C, multi_class='multinomial', solver=solver, max_iter = max_iter)\n",
    "    model.fit(X, y)\n",
    "\n",
    "    return model\n",
    "\n",
    "    pass"
   ]
  },
  {
   "cell_type": "code",
   "execution_count": 6,
   "id": "bored-alberta",
   "metadata": {},
   "outputs": [],
   "source": [
    "def evaluate_logistic_regression_accuracy(Xt, yt, model):\n",
    "    \"\"\"\n",
    "    Apply logistic regression prediction on dataset Xt and evaluate accuracy against yt,\n",
    "    returing the accuracy results as a scalar.\n",
    "    Xt: matrix of real values, size m x d\n",
    "    yt: vector of string labels, size m\n",
    "    \"\"\"\n",
    "    # your code here\n",
    "    \n",
    "    logmod = model\n",
    "    #logmod.fit(Xt, yt)\n",
    "    y_pred = logmod.predict(Xt)\n",
    "    scores = metrics.accuracy_score(yt, y_pred)\n",
    "    \n",
    "    return scores\n",
    "\n",
    "    pass"
   ]
  },
  {
   "cell_type": "code",
   "execution_count": 1357,
   "id": "b9ce8b2a",
   "metadata": {},
   "outputs": [],
   "source": [
    "# your code here for training, evaluating & plotting results"
   ]
  },
  {
   "cell_type": "code",
   "execution_count": 7,
   "id": "c34027f3",
   "metadata": {},
   "outputs": [],
   "source": [
    "# hyper-parameter setup\n",
    "penalty = 'none'\n",
    "tol = 0.0001\n",
    "C = 1.0"
   ]
  },
  {
   "cell_type": "code",
   "execution_count": 1359,
   "id": "edfa5526",
   "metadata": {},
   "outputs": [
    {
     "name": "stdout",
     "output_type": "stream",
     "text": [
      "Accuracy trained based on seed set: 0.32354771784232367\n",
      "Accuracy trained based on seed set: 0.3224066390041494\n",
      "Accuracy trained based on seed set: 0.31742738589211617\n",
      "Accuracy trained based on seed set: 0.3176348547717842\n",
      "Accuracy trained based on seed set: 0.3220954356846473\n",
      "Accuracy trained based on seed set: 0.3200207468879668\n",
      "Accuracy trained based on seed set: 0.3172199170124481\n",
      "Accuracy trained based on seed set: 0.3244813278008299\n",
      "Accuracy trained based on seed set: 0.3220954356846473\n",
      "Accuracy trained based on seed set: 0.3219917012448133\n",
      "Accuracy trained based on seed set: 0.31908713692946056\n",
      "Accuracy trained based on seed set: 0.3233402489626556\n",
      "Accuracy trained based on seed set: 0.3203319502074689\n",
      "Accuracy trained based on seed set: 0.32136929460580915\n",
      "Accuracy trained based on seed set: 0.3216804979253112\n",
      "Accuracy trained based on seed set: 0.32053941908713696\n",
      "Accuracy trained based on seed set: 0.31939834024896263\n"
     ]
    },
    {
     "data": {
      "image/png": "[encoded data removed]",
      "text/plain": [
       "<Figure size 432x288 with 1 Axes>"
      ]
     },
     "metadata": {
      "needs_background": "light"
     },
     "output_type": "display_data"
    }
   ],
   "source": [
    "# find the suitable number of iterations\n",
    "iter_list = [1, 5, 10, 20, 30, 40, 50, 60, 70, 80, 90, 100, 500, 1000, 4000, 8000, 10000]\n",
    "\n",
    "iter_accuracy = []\n",
    "for num in iter_list:\n",
    "    model = train_logistic_regression(seed_X, np.array(seed_y), penalty, tol, C, max_iter, 'sag')\n",
    "    accuracy = evaluate_logistic_regression_accuracy(X_test, y_test, model)\n",
    "    print(\"Accuracy trained based on seed set:\", accuracy)\n",
    "    iter_accuracy.append(accuracy)\n",
    "    \n",
    "# plot accuracy score by seed set\n",
    "plt.plot(iter_list, iter_accuracy, 'o-')\n",
    "plt.show()"
   ]
  },
  {
   "cell_type": "markdown",
   "id": "b45f3046",
   "metadata": {},
   "source": [
    "The accuracies of models are quite stable under different number of iterations, so we choose iteration = 10 in order to shorten the running time."
   ]
  },
  {
   "cell_type": "code",
   "execution_count": 1360,
   "id": "5ea526f4",
   "metadata": {},
   "outputs": [],
   "source": [
    "max_iter = 10"
   ]
  },
  {
   "cell_type": "code",
   "execution_count": 1361,
   "id": "whole-grenada",
   "metadata": {},
   "outputs": [],
   "source": [
    "# seed set\n",
    "seed_X = []\n",
    "seed_y = []\n",
    "for index in seed_set:\n",
    "    seed_X.append(X_pool[index])\n",
    "    seed_y.append(y_pool[index])"
   ]
  },
  {
   "cell_type": "code",
   "execution_count": 1362,
   "id": "882441f9",
   "metadata": {},
   "outputs": [
    {
     "name": "stdout",
     "output_type": "stream",
     "text": [
      "Accuracy trained based on seed set by solver lbfgs: 0.27551867219917014\n",
      "Accuracy trained based on pool set by solver lbfgs: 0.34854771784232363\n",
      "Accuracy trained based on seed set by solver sag: 0.3200207468879668\n",
      "Accuracy trained based on pool set by solver sag: 0.566908713692946\n",
      "Accuracy trained based on seed set by solver saga: 0.3163900414937759\n",
      "Accuracy trained based on pool set by solver saga: 0.5477178423236515\n",
      "Accuracy trained based on seed set by solver newton-cg: 0.31483402489626555\n",
      "Accuracy trained based on pool set by solver newton-cg: 0.5935684647302905\n"
     ]
    }
   ],
   "source": [
    "# test for different solvers\n",
    "\n",
    "# Hyper-parameters set up\n",
    "solver_list = ['lbfgs', 'sag', 'saga', 'newton-cg']\n",
    "\n",
    "accuracy_seed_solver = []\n",
    "accuracy_pool_solver = []\n",
    "for solver in solver_list:\n",
    "    model_seed = train_logistic_regression(seed_X, seed_y, penalty, tol, C, max_iter, solver)\n",
    "    seed_score = evaluate_logistic_regression_accuracy(X_test, y_test, model_seed)\n",
    "    accuracy_seed_solver.append(seed_score)\n",
    "    print(f\"Accuracy trained based on seed set by solver {solver}:\", seed_score)\n",
    "    model_pool = train_logistic_regression(X_pool, y_pool, penalty, tol, C, max_iter, solver)\n",
    "    pool_score = evaluate_logistic_regression_accuracy(X_test, y_test, model_pool)\n",
    "    accuracy_pool_solver.append(pool_score)\n",
    "    print(f\"Accuracy trained based on pool set by solver {solver}:\", pool_score)"
   ]
  },
  {
   "cell_type": "code",
   "execution_count": 1363,
   "id": "9c23f0b3",
   "metadata": {},
   "outputs": [
    {
     "name": "stdout",
     "output_type": "stream",
     "text": [
      "[0.27551867219917014, 0.3200207468879668, 0.3163900414937759, 0.31483402489626555]\n"
     ]
    },
    {
     "data": {
      "image/png": "[encoded data removed]",
      "text/plain": [
       "<Figure size 432x288 with 1 Axes>"
      ]
     },
     "metadata": {
      "needs_background": "light"
     },
     "output_type": "display_data"
    }
   ],
   "source": [
    "# plot accuracy score by seed set\n",
    "print(accuracy_seed_solver)\n",
    "plt.plot(solver_list, accuracy_seed_solver, 'o-')\n",
    "plt.title(\"Model Accuracy under different solvers for seed set\")\n",
    "plt.xlabel(\"Solvers\")\n",
    "plt.ylabel(\"Model Accuracy\")\n",
    "plt.show()"
   ]
  },
  {
   "cell_type": "code",
   "execution_count": 1364,
   "id": "b51523b9",
   "metadata": {},
   "outputs": [
    {
     "name": "stdout",
     "output_type": "stream",
     "text": [
      "[0.34854771784232363, 0.566908713692946, 0.5477178423236515, 0.5935684647302905]\n"
     ]
    },
    {
     "data": {
      "image/png": "[encoded data removed]",
      "text/plain": [
       "<Figure size 432x288 with 1 Axes>"
      ]
     },
     "metadata": {
      "needs_background": "light"
     },
     "output_type": "display_data"
    }
   ],
   "source": [
    "# plot accuracy score by pool set\n",
    "print(accuracy_pool_solver)\n",
    "plt.plot(solver_list, accuracy_pool_solver, 'o-')\n",
    "plt.title(\"Model Accuracy under different solvers for pool set\")\n",
    "plt.xlabel(\"Solvers\")\n",
    "plt.ylabel(\"Model Accuracy\")\n",
    "plt.show()"
   ]
  },
  {
   "cell_type": "code",
   "execution_count": 1365,
   "id": "bcf4a381",
   "metadata": {},
   "outputs": [],
   "source": [
    "# choose sag as the solver since it has high accuracy and also more better runtime efficiency compare to newton-cg\n",
    "solver = 'sag'"
   ]
  },
  {
   "cell_type": "code",
   "execution_count": 932,
   "id": "cecabd91",
   "metadata": {},
   "outputs": [
    {
     "name": "stdout",
     "output_type": "stream",
     "text": [
      "0.5224066390041494\n"
     ]
    }
   ],
   "source": [
    "model = SGDClassifier(loss='log')\n",
    "model.fit(X_pool, y_pool)\n",
    "y_pred = model.predict(X_test)\n",
    "scores = metrics.accuracy_score(y_test, y_pred)\n",
    "print(scores)\n",
    "# also tried SGDClassifier(loss='log'), but it has lower accuracy score, so not consider"
   ]
  },
  {
   "cell_type": "markdown",
   "id": "sweet-elephant",
   "metadata": {},
   "source": [
    "## 2. Active learning framework with Random selection"
   ]
  },
  {
   "cell_type": "code",
   "execution_count": 8,
   "id": "ignored-compromise",
   "metadata": {},
   "outputs": [],
   "source": [
    "def random_select(X, model, **args):\n",
    "    \"\"\"\n",
    "    Given an unlabelled dataset X, a matrix of n x d, and a model (not used)\n",
    "    returns a vector of scores of length n. Each entry reflects the priority \n",
    "    of the corresponding instance. Higher means better.\n",
    "    \n",
    "    \"\"\"\n",
    "    # fill in\n",
    "    n = len(X)\n",
    "    randnums = np.random.random((n,1))\n",
    "    \n",
    "    return list(randnums)\n",
    "    pass"
   ]
  },
  {
   "cell_type": "code",
   "execution_count": 50,
   "id": "4a1d8441",
   "metadata": {},
   "outputs": [],
   "source": [
    "# modified version for query committee\n",
    "\n",
    "def pool_based_active_learning(X_pool, y_pool, seed_ids,\n",
    "                               train_func, select_func,\n",
    "                               max_size, batch_size, select_method, query_method, **args):\n",
    "    \"\"\"\n",
    "    Perform an active learning simulation, which starts by training on a seed set,\n",
    "    then iteratively applies the selection function to rank instances in the pool,\n",
    "    selects the top few instances which are included into the training set and the\n",
    "    process repeats. \n",
    "        X_pool: matrix of n x d\n",
    "        y_pool: vector of string labels, size n\n",
    "        seed_ids: initial labelled set set, as a list of indices [0..n-1] into pool\n",
    "        train_func: function which given (X, y, optional args) returns a trained model\n",
    "        select_func: function which given (X, optional args) returns a sequence of scores\n",
    "        max_size: stopping condition for active learning, when labelled data reaches given size\n",
    "        batch_size: number of instances to be labelled in each iteration\n",
    "        args: optional arguments passed to training and selection function\n",
    "    returns the sequence of trained models \n",
    "    \"\"\"\n",
    "  \n",
    "    accuracy_record = []\n",
    "    \n",
    "    # construct U, the pool of unlabelled instances and their hidden labels\n",
    "    U_X = []\n",
    "    U_y = []\n",
    "    # construct L, the set of initial labelled instances\n",
    "    L_X = []\n",
    "    L_y = []\n",
    "    \n",
    "    for index in range(len(X_pool)):\n",
    "        if index not in seed_ids:\n",
    "            U_X.append(X_pool[index])\n",
    "            U_y.append(y_pool[index])\n",
    "        else:\n",
    "            L_X.append(X_pool[index])\n",
    "            L_y.append(y_pool[index])\n",
    "#     L_X = pd.DataFrame(L_X)\n",
    "#     L_y = pd.DataFrame(L_y).loc[:,0]\n",
    "\n",
    "    \n",
    "    b = batch_size\n",
    "    T = int(max_size/batch_size)\n",
    "    \n",
    "    \n",
    "    for t in range(0, T):\n",
    "        # selection method\n",
    "        if select_method == \"query_by_committee\":\n",
    "            ensemble1, ensemble2, logmod = train_committee(np.array(L_X), np.array(L_y), 'none', 0.0001, 1.0, 10, 'sag')\n",
    "            theta_t = logmod\n",
    "            if query_method == \"vote_entropy\":\n",
    "                model = [ensemble1, ensemble2]\n",
    "                labels = set(y_pool)\n",
    "                r = select_func(U_X, model, labels)\n",
    "            else:\n",
    "                model = [ensemble1, ensemble2]\n",
    "                r = select_func(U_X, model)\n",
    "        else:\n",
    "            theta_t = train_func(np.array(L_X), np.array(L_y), 'none', 0.0001, 1.0, 10, 'sag')\n",
    "            r = select_func(U_X, theta_t) # random_select\n",
    "            \n",
    "        # find the indices of top b instances in r\n",
    "        max_index = []\n",
    "        for i in range(b):\n",
    "            max_index.append(r.index(max(r)))\n",
    "            r[r.index(max(r))] = 0\n",
    "\n",
    "        for j in max_index:\n",
    "            x_j = U_X[j]\n",
    "            L_X.append(np.array(x_j))\n",
    "            U_X[j] = []\n",
    "            y_j = U_y[j]\n",
    "            L_y.append(np.array(y_j))\n",
    "            U_y[j] = np.nan\n",
    "\n",
    "        U_X = list(np.array(pd.DataFrame(U_X).dropna()))\n",
    "        U_y = list(pd.DataFrame(U_y).dropna().loc[:,0])\n",
    "        \n",
    "        # record the accuracy of model after each iteration\n",
    "        size  = int ((t+1)*b)\n",
    "        score = evaluate_logistic_regression_accuracy(X_test, y_test, theta_t)\n",
    "        accuracy_record.append(score)\n",
    "        print(f\"Accuracy trained based on number of instances = {size+300}:\", score)\n",
    "        \n",
    "    return theta_t, accuracy_record\n",
    "    pass"
   ]
  },
  {
   "cell_type": "code",
   "execution_count": 51,
   "id": "906ae747",
   "metadata": {},
   "outputs": [
    {
     "name": "stdout",
     "output_type": "stream",
     "text": [
      "Accuracy trained based on number of instances = 360: 0.3225103734439834\n",
      "Accuracy trained based on number of instances = 420: 0.34107883817427387\n",
      "Accuracy trained based on number of instances = 480: 0.3412863070539419\n",
      "Accuracy trained based on number of instances = 540: 0.35466804979253114\n",
      "Accuracy trained based on number of instances = 600: 0.36649377593360993\n",
      "Accuracy trained based on number of instances = 660: 0.37344398340248963\n",
      "Accuracy trained based on number of instances = 720: 0.3806016597510373\n",
      "Accuracy trained based on number of instances = 780: 0.38931535269709544\n",
      "Accuracy trained based on number of instances = 840: 0.38973029045643154\n",
      "Accuracy trained based on number of instances = 900: 0.3942946058091286\n",
      "Accuracy trained based on number of instances = 960: 0.3955394190871369\n",
      "Accuracy trained based on number of instances = 1020: 0.404045643153527\n",
      "Accuracy trained based on number of instances = 1080: 0.40612033195020747\n",
      "Accuracy trained based on number of instances = 1140: 0.41369294605809126\n",
      "Accuracy trained based on number of instances = 1200: 0.4186721991701245\n",
      "Accuracy trained based on number of instances = 1260: 0.42728215767634853\n",
      "Accuracy trained based on number of instances = 1320: 0.43101659751037347\n",
      "Accuracy trained based on number of instances = 1380: 0.43091286307053944\n",
      "Accuracy trained based on number of instances = 1440: 0.4371369294605809\n",
      "Accuracy trained based on number of instances = 1500: 0.43641078838174274\n",
      "Accuracy trained based on number of instances = 1560: 0.4425311203319502\n",
      "Accuracy trained based on number of instances = 1620: 0.44450207468879666\n",
      "Accuracy trained based on number of instances = 1680: 0.4470954356846473\n",
      "Accuracy trained based on number of instances = 1740: 0.4521784232365145\n",
      "Accuracy trained based on number of instances = 1800: 0.4487551867219917\n",
      "Accuracy trained based on number of instances = 1860: 0.4566390041493776\n",
      "Accuracy trained based on number of instances = 1920: 0.4516597510373444\n",
      "Accuracy trained based on number of instances = 1980: 0.4553941908713693\n",
      "Accuracy trained based on number of instances = 2040: 0.4631742738589212\n",
      "Accuracy trained based on number of instances = 2100: 0.46649377593360997\n",
      "Accuracy trained based on number of instances = 2160: 0.4653526970954357\n",
      "Accuracy trained based on number of instances = 2220: 0.4683609958506224\n",
      "Accuracy trained based on number of instances = 2280: 0.4696058091286307\n",
      "Accuracy trained based on number of instances = 2340: 0.4730290456431535\n",
      "Accuracy trained based on number of instances = 2400: 0.47406639004149376\n",
      "Accuracy trained based on number of instances = 2460: 0.4770746887966805\n",
      "Accuracy trained based on number of instances = 2520: 0.47769709543568467\n",
      "Accuracy trained based on number of instances = 2580: 0.4773858921161826\n",
      "Accuracy trained based on number of instances = 2640: 0.4807053941908714\n",
      "Accuracy trained based on number of instances = 2700: 0.48184647302904565\n",
      "Accuracy trained based on number of instances = 2760: 0.4857883817427386\n",
      "Accuracy trained based on number of instances = 2820: 0.4819502074688797\n",
      "Accuracy trained based on number of instances = 2880: 0.48402489626556017\n",
      "Accuracy trained based on number of instances = 2940: 0.4849585062240664\n",
      "Accuracy trained based on number of instances = 3000: 0.48609958506224066\n"
     ]
    }
   ],
   "source": [
    "# random_select accuracy\n",
    "max_size = 2700\n",
    "batch = 60\n",
    "models_random, accuracy_randomSelection = pool_based_active_learning(X_pool, y_pool, seed_set, \n",
    "                                    train_logistic_regression, random_select, \n",
    "                                    max_size, batch, \"random_select\", \"none\")"
   ]
  },
  {
   "cell_type": "code",
   "execution_count": 52,
   "id": "941d0299",
   "metadata": {},
   "outputs": [
    {
     "data": {
      "image/png": "[encoded data removed]",
      "text/plain": [
       "<Figure size 432x288 with 1 Axes>"
      ]
     },
     "metadata": {
      "needs_background": "light"
     },
     "output_type": "display_data"
    }
   ],
   "source": [
    "# plot accuracy score by size_list\n",
    "size_list = [i for i in range(0, 2700, 60)]\n",
    "plt.plot(size_list, accuracy_randomSelection, '-')\n",
    "plt.title(\"Model Accuracy under Random Selection vs number of trained instances\")\n",
    "plt.xlabel(\"Number of trained instances\")\n",
    "plt.ylabel(\"Model Accuracy under Random Selection\")\n",
    "plt.show()"
   ]
  },
  {
   "cell_type": "markdown",
   "id": "numerical-novel",
   "metadata": {},
   "source": [
    "## 3. Uncertainty sampling"
   ]
  },
  {
   "cell_type": "code",
   "execution_count": 53,
   "id": "raised-mistress",
   "metadata": {},
   "outputs": [],
   "source": [
    "def logistic_regression_entropy_select(X, model, **args):\n",
    "    \"\"\"\n",
    "    Given an unlabelled dataset X, a matrix of n x d, and a discriminative model \n",
    "    P(y|x), returns a vector of n entropy values.\n",
    "    \n",
    "    Should use intercept and coefficients from logistic regression to calculate the probability\n",
    "    for each class y we have the corresponding intercept and coefficients\n",
    "    \n",
    "    X will be served as Data Frame\n",
    "    \n",
    "    \"\"\"\n",
    "    # fill in\n",
    "\n",
    "    log_matrix = model.predict_proba(pd.DataFrame(X))\n",
    "    entropy = list(pd.DataFrame(-log_matrix*np.log(log_matrix)).sum(axis=1))\n",
    "        \n",
    "    return entropy\n",
    "        \n",
    "    \n",
    "    pass"
   ]
  },
  {
   "cell_type": "code",
   "execution_count": 54,
   "id": "1f807723",
   "metadata": {},
   "outputs": [
    {
     "name": "stdout",
     "output_type": "stream",
     "text": [
      "Accuracy trained based on number of instances = 360: 0.3200207468879668\n",
      "Accuracy trained based on number of instances = 420: 0.3354771784232365\n",
      "Accuracy trained based on number of instances = 480: 0.3411825726141079\n",
      "Accuracy trained based on number of instances = 540: 0.36358921161825725\n",
      "Accuracy trained based on number of instances = 600: 0.3677385892116183\n",
      "Accuracy trained based on number of instances = 660: 0.38029045643153525\n",
      "Accuracy trained based on number of instances = 720: 0.3866182572614108\n",
      "Accuracy trained based on number of instances = 780: 0.3899377593360996\n",
      "Accuracy trained based on number of instances = 840: 0.3862033195020747\n",
      "Accuracy trained based on number of instances = 900: 0.4024896265560166\n",
      "Accuracy trained based on number of instances = 960: 0.4032157676348548\n",
      "Accuracy trained based on number of instances = 1020: 0.40860995850622406\n",
      "Accuracy trained based on number of instances = 1080: 0.4137966804979253\n",
      "Accuracy trained based on number of instances = 1140: 0.4204356846473029\n",
      "Accuracy trained based on number of instances = 1200: 0.4259336099585062\n",
      "Accuracy trained based on number of instances = 1260: 0.42520746887966804\n",
      "Accuracy trained based on number of instances = 1320: 0.4255186721991701\n",
      "Accuracy trained based on number of instances = 1380: 0.4327800829875519\n",
      "Accuracy trained based on number of instances = 1440: 0.43682572614107884\n",
      "Accuracy trained based on number of instances = 1500: 0.437551867219917\n",
      "Accuracy trained based on number of instances = 1560: 0.4438796680497925\n",
      "Accuracy trained based on number of instances = 1620: 0.4469917012448133\n",
      "Accuracy trained based on number of instances = 1680: 0.44771784232365147\n",
      "Accuracy trained based on number of instances = 1740: 0.4519709543568465\n",
      "Accuracy trained based on number of instances = 1800: 0.45529045643153526\n",
      "Accuracy trained based on number of instances = 1860: 0.45902489626556015\n",
      "Accuracy trained based on number of instances = 1920: 0.4580912863070539\n",
      "Accuracy trained based on number of instances = 1980: 0.46224066390041496\n",
      "Accuracy trained based on number of instances = 2040: 0.4644190871369295\n",
      "Accuracy trained based on number of instances = 2100: 0.4649377593360996\n",
      "Accuracy trained based on number of instances = 2160: 0.47064315352697095\n",
      "Accuracy trained based on number of instances = 2220: 0.475207468879668\n",
      "Accuracy trained based on number of instances = 2280: 0.47614107883817425\n",
      "Accuracy trained based on number of instances = 2340: 0.4770746887966805\n",
      "Accuracy trained based on number of instances = 2400: 0.4745850622406639\n",
      "Accuracy trained based on number of instances = 2460: 0.47977178423236516\n",
      "Accuracy trained based on number of instances = 2520: 0.483298755186722\n",
      "Accuracy trained based on number of instances = 2580: 0.48360995850622407\n",
      "Accuracy trained based on number of instances = 2640: 0.48516597510373444\n",
      "Accuracy trained based on number of instances = 2700: 0.48319502074688797\n",
      "Accuracy trained based on number of instances = 2760: 0.48443983402489627\n",
      "Accuracy trained based on number of instances = 2820: 0.48941908713692944\n",
      "Accuracy trained based on number of instances = 2880: 0.4936721991701245\n",
      "Accuracy trained based on number of instances = 2940: 0.4939834024896266\n",
      "Accuracy trained based on number of instances = 3000: 0.4945020746887967\n"
     ]
    }
   ],
   "source": [
    "# entropy_select accuracy\n",
    "max_size = 2700\n",
    "batch = 60\n",
    "models_us, accuracy_us = pool_based_active_learning(X_pool, y_pool, seed_set, \n",
    "                                 train_logistic_regression, \n",
    "                                 logistic_regression_entropy_select, \n",
    "                                 max_size, batch, \"entropy_select\", \"none\")"
   ]
  },
  {
   "cell_type": "code",
   "execution_count": 69,
   "id": "ca6ac8d7",
   "metadata": {},
   "outputs": [
    {
     "data": {
      "image/png": "[encoded data removed]",
      "text/plain": [
       "<Figure size 432x288 with 1 Axes>"
      ]
     },
     "metadata": {
      "needs_background": "light"
     },
     "output_type": "display_data"
    }
   ],
   "source": [
    "# plot accuracy score by size_list\n",
    "size_list = [i for i in range(0, 2700, 60)]\n",
    "run_list = [int(size/60)+1 for size in size_list]\n",
    "plt.plot(run_list, accuracy_us, '-')\n",
    "plt.title(\"Model Accuracy under Entropy Selection vs number of running loops\")\n",
    "plt.xlabel(\"Number of running loops\")\n",
    "plt.ylabel(\"Model Accuracy under Entropy Selection\")\n",
    "plt.show()"
   ]
  },
  {
   "cell_type": "markdown",
   "id": "diverse-taxation",
   "metadata": {},
   "source": [
    "## 4. Query by committee"
   ]
  },
  {
   "cell_type": "code",
   "execution_count": 56,
   "id": "7888d7bb",
   "metadata": {},
   "outputs": [],
   "source": [
    "# don't forget to provide function descriptive comments, like those provided in templates above"
   ]
  },
  {
   "cell_type": "code",
   "execution_count": 57,
   "id": "handy-water",
   "metadata": {},
   "outputs": [],
   "source": [
    "def query_by_committee_vote_entropy(X, model, labels, **args):\n",
    "    \n",
    "    \"\"\"\n",
    "    Given an unlabelled dataset X, a matrix of n x d, and a discriminative model \n",
    "    P(y|x), returns a vector of n vote entropy values.\n",
    "    \n",
    "    C = number of models\n",
    "    \n",
    "    Need to use C number of models to predict instances in X.\n",
    "    Then for different classes of y, calculate the vote and sum them up.\n",
    "    Assume argument model contains two models. \n",
    "    \n",
    "    Arugment 'labels': a list of unique possible labels\n",
    "    \n",
    "    \"\"\"\n",
    "    \n",
    "    X = pd.DataFrame(X)\n",
    "    vote_entropy = []\n",
    "    \n",
    "    # get members in committee\n",
    "    model1 = model[0]\n",
    "    model2 = model[1]\n",
    "    \n",
    "    # use models to make predictions on the unlabelled dataset X\n",
    "    classification1 = model1.predict(X)\n",
    "    classification2 = model2.predict(X)\n",
    "\n",
    "    # loop over each instances in X, calculate their corresponding vote entropy\n",
    "    for i in range(len(X)):\n",
    "        \n",
    "        # create a dictionary to track the vote\n",
    "        dic = dict.fromkeys(labels, 0)\n",
    "        \n",
    "        predic1 = classification1[i]\n",
    "        predic2 = classification2[i]\n",
    "        \n",
    "        \n",
    "        dic[predic1] = dic[predic1] + 1\n",
    "        dic[predic2] = dic[predic2] + 1\n",
    "        \n",
    "        entropy = 0\n",
    "        for vote in dic.values():\n",
    "            if vote != 0:\n",
    "                entropy = entropy + (vote/2)*np.log(vote/2)\n",
    "            \n",
    "        vote_entropy.append(-entropy)\n",
    "        \n",
    "    return vote_entropy\n",
    "\n",
    "    pass\n"
   ]
  },
  {
   "cell_type": "code",
   "execution_count": 58,
   "id": "875a8bfb",
   "metadata": {},
   "outputs": [],
   "source": [
    "def query_by_committee_soft_vote_entropy(X, model, **args):\n",
    "    \n",
    "    \"\"\"\n",
    "    Given an unlabelled dataset X, a matrix of n x d, and a discriminative model \n",
    "    P(y|x), returns a vector of n soft vote entropy values.\n",
    "    \n",
    "    Argument model contains two sets of parameters (intercept, coefficient) of 2 different models\n",
    "    \n",
    "    C = 2: number of committee\n",
    "    \n",
    "    \"\"\"\n",
    "\n",
    "    svm = model[0]\n",
    "    logmod = model[1]\n",
    "    \n",
    "    svm_matrix = svm.predict_proba(pd.DataFrame(X))\n",
    "    log_matrix = logmod.predict_proba(pd.DataFrame(X))\n",
    "    soft_vote_entropy = list(pd.DataFrame(-((log_matrix+svm_matrix)/2)*np.log((log_matrix+svm_matrix)/2)).sum(axis=1))\n",
    "    \n",
    "    return soft_vote_entropy\n",
    "    \n",
    "    pass\n"
   ]
  },
  {
   "cell_type": "code",
   "execution_count": 59,
   "id": "37860de2",
   "metadata": {},
   "outputs": [],
   "source": [
    "def query_by_committee_KL(X, model, **args):\n",
    "    \n",
    "    \"\"\"\n",
    "    Given an unlabelled dataset X, a matrix of n x d, and a discriminative model \n",
    "    P(y|x), returns a vector of n soft vote entropy values.\n",
    "    \n",
    "    Argument model contains 2 different models\n",
    "    \n",
    "    C = 2: number of committee\n",
    "    \n",
    "    \"\"\"\n",
    "    \n",
    "    X = pd.DataFrame(X)\n",
    "    \n",
    "    svm = model[0]\n",
    "    logmod = model[1]\n",
    "    \n",
    "    svm_matrix = svm.predict_proba(pd.DataFrame(X))\n",
    "    log_matrix = logmod.predict_proba(pd.DataFrame(X))\n",
    "    \n",
    "    KL_divergence_svm = pd.DataFrame(svm_matrix*np.log(svm_matrix/((log_matrix+svm_matrix)/2))).sum(axis=1)\n",
    "    KL_divergence_log = pd.DataFrame(log_matrix*np.log(log_matrix/((log_matrix+svm_matrix)/2))).sum(axis=1)\n",
    "    KL_divergence = list(np.array(KL_divergence_svm)+np.array(KL_divergence_log)/2)\n",
    "\n",
    "    return KL_divergence\n",
    "\n",
    "    pass"
   ]
  },
  {
   "cell_type": "code",
   "execution_count": 60,
   "id": "cfd259ac",
   "metadata": {},
   "outputs": [],
   "source": [
    "## train_committee: learn 2 models to form the committee\n",
    "## use the committee to do data selection based on the above 3 methods\n",
    "## use the selected data to evaluate the accuracy of logistic regression"
   ]
  },
  {
   "cell_type": "code",
   "execution_count": 61,
   "id": "continued-clothing",
   "metadata": {},
   "outputs": [],
   "source": [
    "def train_committee(X, y, penalty, tol, C, max_iter, solver):\n",
    "    \n",
    "    \"\"\"\n",
    "    Train a logistic regression model on dataset (X, y) and return trained model.\n",
    "    X: matrix of real values, size n x d\n",
    "    y: vector of string labels, size n\n",
    "    Could return two models:\n",
    "    – the ensemble and the standard logistic regression model as a tuple \n",
    "    i.e., return (model1, model2)\n",
    "    \"\"\"\n",
    "\n",
    "    ensemble1 = svm.SVC(probability=True, max_iter=200)\n",
    "    ensemble1.fit(X,y)\n",
    "    \n",
    "    ensemble2 = LogisticRegression(multi_class='multinomial', max_iter = 10, solver='saga')\n",
    "    ensemble2.fit(X,y)\n",
    "        \n",
    "    logmod = LogisticRegression(penalty='none',tol = tol, C = C, multi_class='multinomial', solver=solver, max_iter = max_iter)\n",
    "    logmod.fit(X,y)\n",
    "    \n",
    "    return (ensemble1, ensemble2, logmod)\n",
    "\n",
    "    pass"
   ]
  },
  {
   "cell_type": "code",
   "execution_count": 62,
   "id": "south-smooth",
   "metadata": {},
   "outputs": [],
   "source": [
    "## your code here for training, evaluation, and plotting code"
   ]
  },
  {
   "cell_type": "code",
   "execution_count": 63,
   "id": "230ce1f8",
   "metadata": {},
   "outputs": [],
   "source": [
    "size_list = [i for i in range(0, 2700, 60)]\n",
    "run_list = [int(size/60)+1 for size in size_list]"
   ]
  },
  {
   "cell_type": "code",
   "execution_count": 64,
   "id": "5258eb43",
   "metadata": {},
   "outputs": [
    {
     "name": "stdout",
     "output_type": "stream",
     "text": [
      "Accuracy trained based on number of instances = 360: 0.3240663900414938\n",
      "Accuracy trained based on number of instances = 420: 0.33755186721991703\n",
      "Accuracy trained based on number of instances = 480: 0.3523858921161826\n",
      "Accuracy trained based on number of instances = 540: 0.3685684647302905\n",
      "Accuracy trained based on number of instances = 600: 0.3698132780082988\n",
      "Accuracy trained based on number of instances = 660: 0.3860995850622407\n",
      "Accuracy trained based on number of instances = 720: 0.3877593360995851\n",
      "Accuracy trained based on number of instances = 780: 0.39927385892116185\n",
      "Accuracy trained based on number of instances = 840: 0.4059128630705394\n",
      "Accuracy trained based on number of instances = 900: 0.4067427385892116\n",
      "Accuracy trained based on number of instances = 960: 0.41431535269709546\n",
      "Accuracy trained based on number of instances = 1020: 0.4190871369294606\n",
      "Accuracy trained based on number of instances = 1080: 0.42365145228215767\n",
      "Accuracy trained based on number of instances = 1140: 0.4266597510373444\n",
      "Accuracy trained based on number of instances = 1200: 0.43101659751037347\n",
      "Accuracy trained based on number of instances = 1260: 0.43215767634854774\n",
      "Accuracy trained based on number of instances = 1320: 0.43558091286307055\n",
      "Accuracy trained based on number of instances = 1380: 0.43900414937759336\n",
      "Accuracy trained based on number of instances = 1440: 0.44273858921161824\n",
      "Accuracy trained based on number of instances = 1500: 0.44356846473029043\n",
      "Accuracy trained based on number of instances = 1560: 0.4490663900414938\n",
      "Accuracy trained based on number of instances = 1620: 0.4553941908713693\n",
      "Accuracy trained based on number of instances = 1680: 0.4579875518672199\n",
      "Accuracy trained based on number of instances = 1740: 0.46390041493775935\n",
      "Accuracy trained based on number of instances = 1800: 0.4648340248962656\n",
      "Accuracy trained based on number of instances = 1860: 0.4691908713692946\n",
      "Accuracy trained based on number of instances = 1920: 0.4705394190871369\n",
      "Accuracy trained based on number of instances = 1980: 0.4764522821576763\n",
      "Accuracy trained based on number of instances = 2040: 0.4725103734439834\n",
      "Accuracy trained based on number of instances = 2100: 0.47354771784232363\n",
      "Accuracy trained based on number of instances = 2160: 0.4756224066390041\n",
      "Accuracy trained based on number of instances = 2220: 0.48018672199170126\n",
      "Accuracy trained based on number of instances = 2280: 0.4802904564315353\n",
      "Accuracy trained based on number of instances = 2340: 0.48018672199170126\n",
      "Accuracy trained based on number of instances = 2400: 0.4905601659751037\n",
      "Accuracy trained based on number of instances = 2460: 0.4866182572614108\n",
      "Accuracy trained based on number of instances = 2520: 0.48692946058091285\n",
      "Accuracy trained based on number of instances = 2580: 0.4941908713692946\n",
      "Accuracy trained based on number of instances = 2640: 0.49564315352697097\n",
      "Accuracy trained based on number of instances = 2700: 0.4994813278008299\n",
      "Accuracy trained based on number of instances = 2760: 0.4982365145228216\n",
      "Accuracy trained based on number of instances = 2820: 0.5011410788381743\n",
      "Accuracy trained based on number of instances = 2880: 0.504253112033195\n",
      "Accuracy trained based on number of instances = 2940: 0.504460580912863\n",
      "Accuracy trained based on number of instances = 3000: 0.5037344398340249\n"
     ]
    }
   ],
   "source": [
    "# vote_entropy\n",
    "max_size = 2700\n",
    "batch = 60\n",
    "models_us, accuracy_vote_entropy = pool_based_active_learning(X_pool, y_pool, seed_set, \n",
    "                                     train_committee, \n",
    "                                     query_by_committee_vote_entropy, \n",
    "                                     max_size, batch, \"query_by_committee\", \"vote_entropy\")"
   ]
  },
  {
   "cell_type": "code",
   "execution_count": 65,
   "id": "4529e8ea",
   "metadata": {},
   "outputs": [
    {
     "name": "stdout",
     "output_type": "stream",
     "text": [
      "Accuracy trained based on number of instances = 360: 0.3179460580912863\n",
      "Accuracy trained based on number of instances = 420: 0.33807053941908716\n",
      "Accuracy trained based on number of instances = 480: 0.3476141078838174\n",
      "Accuracy trained based on number of instances = 540: 0.36804979253112036\n",
      "Accuracy trained based on number of instances = 600: 0.37230290456431536\n",
      "Accuracy trained based on number of instances = 660: 0.3796680497925311\n",
      "Accuracy trained based on number of instances = 720: 0.3821576763485477\n",
      "Accuracy trained based on number of instances = 780: 0.391597510373444\n",
      "Accuracy trained based on number of instances = 840: 0.39699170124481326\n",
      "Accuracy trained based on number of instances = 900: 0.4024896265560166\n",
      "Accuracy trained based on number of instances = 960: 0.4046680497925311\n",
      "Accuracy trained based on number of instances = 1020: 0.4062240663900415\n",
      "Accuracy trained based on number of instances = 1080: 0.41514522821576766\n",
      "Accuracy trained based on number of instances = 1140: 0.41815352697095437\n",
      "Accuracy trained based on number of instances = 1200: 0.4230290456431535\n",
      "Accuracy trained based on number of instances = 1260: 0.42188796680497925\n",
      "Accuracy trained based on number of instances = 1320: 0.4280082987551867\n",
      "Accuracy trained based on number of instances = 1380: 0.43651452282157677\n",
      "Accuracy trained based on number of instances = 1440: 0.4409751037344398\n",
      "Accuracy trained based on number of instances = 1500: 0.44284232365145226\n",
      "Accuracy trained based on number of instances = 1560: 0.43599585062240664\n",
      "Accuracy trained based on number of instances = 1620: 0.44284232365145226\n",
      "Accuracy trained based on number of instances = 1680: 0.45093360995850623\n",
      "Accuracy trained based on number of instances = 1740: 0.45145228215767635\n",
      "Accuracy trained based on number of instances = 1800: 0.45103734439834026\n",
      "Accuracy trained based on number of instances = 1860: 0.4558091286307054\n",
      "Accuracy trained based on number of instances = 1920: 0.4605809128630705\n",
      "Accuracy trained based on number of instances = 1980: 0.46265560165975106\n",
      "Accuracy trained based on number of instances = 2040: 0.4601659751037344\n",
      "Accuracy trained based on number of instances = 2100: 0.46338174273858923\n",
      "Accuracy trained based on number of instances = 2160: 0.46929460580912863\n",
      "Accuracy trained based on number of instances = 2220: 0.4712655601659751\n",
      "Accuracy trained based on number of instances = 2280: 0.4721991701244813\n",
      "Accuracy trained based on number of instances = 2340: 0.47271784232365144\n",
      "Accuracy trained based on number of instances = 2400: 0.4770746887966805\n",
      "Accuracy trained based on number of instances = 2460: 0.4807053941908714\n",
      "Accuracy trained based on number of instances = 2520: 0.47966804979253114\n",
      "Accuracy trained based on number of instances = 2580: 0.4808091286307054\n",
      "Accuracy trained based on number of instances = 2640: 0.4863070539419087\n",
      "Accuracy trained based on number of instances = 2700: 0.48568464730290456\n",
      "Accuracy trained based on number of instances = 2760: 0.483298755186722\n",
      "Accuracy trained based on number of instances = 2820: 0.4913900414937759\n",
      "Accuracy trained based on number of instances = 2880: 0.4872406639004149\n",
      "Accuracy trained based on number of instances = 2940: 0.4854771784232365\n",
      "Accuracy trained based on number of instances = 3000: 0.49522821576763487\n"
     ]
    }
   ],
   "source": [
    "# soft_vote_entropy\n",
    "max_size = 2700\n",
    "batch = 60\n",
    "models_us, accuracy_soft_vote_entropy = pool_based_active_learning(X_pool, y_pool, seed_set, \n",
    "                                     train_committee, \n",
    "                                     query_by_committee_soft_vote_entropy, \n",
    "                                     max_size, batch, \"query_by_committee\", \"soft_vote_entropy\")"
   ]
  },
  {
   "cell_type": "code",
   "execution_count": 66,
   "id": "d83a016b",
   "metadata": {},
   "outputs": [
    {
     "name": "stdout",
     "output_type": "stream",
     "text": [
      "Accuracy trained based on number of instances = 360: 0.3192946058091286\n",
      "Accuracy trained based on number of instances = 420: 0.3266597510373444\n",
      "Accuracy trained based on number of instances = 480: 0.3216804979253112\n",
      "Accuracy trained based on number of instances = 540: 0.33236514522821575\n",
      "Accuracy trained based on number of instances = 600: 0.3369294605809129\n",
      "Accuracy trained based on number of instances = 660: 0.3440871369294606\n",
      "Accuracy trained based on number of instances = 720: 0.3471991701244813\n",
      "Accuracy trained based on number of instances = 780: 0.3592323651452282\n",
      "Accuracy trained based on number of instances = 840: 0.36182572614107883\n",
      "Accuracy trained based on number of instances = 900: 0.3646265560165975\n",
      "Accuracy trained based on number of instances = 960: 0.374896265560166\n",
      "Accuracy trained based on number of instances = 1020: 0.3771784232365145\n",
      "Accuracy trained based on number of instances = 1080: 0.3767634854771784\n",
      "Accuracy trained based on number of instances = 1140: 0.3878630705394191\n",
      "Accuracy trained based on number of instances = 1200: 0.3938796680497925\n",
      "Accuracy trained based on number of instances = 1260: 0.3900414937759336\n",
      "Accuracy trained based on number of instances = 1320: 0.3977178423236514\n",
      "Accuracy trained based on number of instances = 1380: 0.40020746887966807\n",
      "Accuracy trained based on number of instances = 1440: 0.41109958506224065\n",
      "Accuracy trained based on number of instances = 1500: 0.4175311203319502\n",
      "Accuracy trained based on number of instances = 1560: 0.42147302904564315\n",
      "Accuracy trained based on number of instances = 1620: 0.42946058091286304\n",
      "Accuracy trained based on number of instances = 1680: 0.43018672199170127\n",
      "Accuracy trained based on number of instances = 1740: 0.43392116182572615\n",
      "Accuracy trained based on number of instances = 1800: 0.43558091286307055\n",
      "Accuracy trained based on number of instances = 1860: 0.4407676348547718\n",
      "Accuracy trained based on number of instances = 1920: 0.441804979253112\n",
      "Accuracy trained based on number of instances = 1980: 0.4392116182572614\n",
      "Accuracy trained based on number of instances = 2040: 0.4466804979253112\n",
      "Accuracy trained based on number of instances = 2100: 0.4451244813278008\n",
      "Accuracy trained based on number of instances = 2160: 0.44968879668049794\n",
      "Accuracy trained based on number of instances = 2220: 0.44844398340248964\n",
      "Accuracy trained based on number of instances = 2280: 0.45653526970954356\n",
      "Accuracy trained based on number of instances = 2340: 0.45394190871369294\n",
      "Accuracy trained based on number of instances = 2400: 0.46078838174273856\n",
      "Accuracy trained based on number of instances = 2460: 0.46566390041493777\n",
      "Accuracy trained based on number of instances = 2520: 0.4690871369294606\n",
      "Accuracy trained based on number of instances = 2580: 0.46815352697095436\n",
      "Accuracy trained based on number of instances = 2640: 0.4687759336099585\n",
      "Accuracy trained based on number of instances = 2700: 0.4695020746887967\n",
      "Accuracy trained based on number of instances = 2760: 0.47437759336099583\n",
      "Accuracy trained based on number of instances = 2820: 0.4787344398340249\n",
      "Accuracy trained based on number of instances = 2880: 0.47966804979253114\n",
      "Accuracy trained based on number of instances = 2940: 0.4816390041493776\n",
      "Accuracy trained based on number of instances = 3000: 0.4820539419087137\n"
     ]
    }
   ],
   "source": [
    "# KL test\n",
    "max_size = 2700\n",
    "batch = 60\n",
    "models_us, accuracy_KL = pool_based_active_learning(X_pool, y_pool, seed_set, \n",
    "                                     train_committee, \n",
    "                                     query_by_committee_KL, \n",
    "                                     max_size, batch, \"query_by_committee\", \"KL\")"
   ]
  },
  {
   "cell_type": "code",
   "execution_count": 67,
   "id": "e629fba1",
   "metadata": {},
   "outputs": [],
   "source": [
    "size_list = [i for i in range(0, 2700, 60)]\n",
    "run_list = [int(size/60)+1 for size in size_list]"
   ]
  },
  {
   "cell_type": "code",
   "execution_count": 70,
   "id": "857630de",
   "metadata": {},
   "outputs": [
    {
     "data": {
      "image/png": "[encoded data removed]",
      "text/plain": [
       "<Figure size 432x288 with 1 Axes>"
      ]
     },
     "metadata": {
      "needs_background": "light"
     },
     "output_type": "display_data"
    }
   ],
   "source": [
    "plt.plot(run_list, accuracy_vote_entropy, 'b-', label = \"vote_entropy\")\n",
    "plt.plot(run_list, accuracy_soft_vote_entropy, 'g-', label = \"soft_vote_entropy\")\n",
    "plt.plot(run_list, accuracy_KL, 'r-', label = \"KL_Divergence\")\n",
    "plt.title(\"Model Accuracy under Query by Committee vs number of iterations\")\n",
    "plt.xlabel(\"Number of iterations\")\n",
    "plt.ylabel(\"Model Accuracy under Query by Committee\")\n",
    "plt.legend()\n",
    "plt.show()"
   ]
  },
  {
   "cell_type": "markdown",
   "id": "suffering-airport",
   "metadata": {},
   "source": [
    "## 5. Hierarchical sampling"
   ]
  },
  {
   "cell_type": "code",
   "execution_count": 1381,
   "id": "d08af7ba",
   "metadata": {},
   "outputs": [
    {
     "data": {
      "text/plain": [
       "array([29, 19, 15,  1, 16, 25,  5,  1,  1,  1, 16, 28, 19, 12, 16, 13, 17,\n",
       "       17, 11,  8,  5,  1,  9,  2, 19, 29, 24,  8,  6, 22,  1, 13,  0, 13,\n",
       "       13, 22, 22,  1,  1, 13, 17, 17,  2,  8,  5, 29,  5,  5,  8,  8,  2,\n",
       "       10, 10,  6, 14, 10,  1, 10, 10, 17, 29, 16, 26,  2, 28, 15,  7,  5,\n",
       "       28, 29, 11,  4,  4,  4,  4,  4,  4,  4, 11, 11, 14, 29,  7,  8, 17,\n",
       "       13,  9, 10,  5, 10,  3, 24,  3,  0, 18, 24, 10, 10,  3, 26, 14, 24,\n",
       "        6,  6,  0,  0,  6, 19,  0, 26,  0,  3,  0,  3, 26, 22, 24, 14,  0,\n",
       "        0,  6,  6,  8, 24, 27,  9, 18, 27,  3,  6, 13,  9, 26, 26, 15, 25,\n",
       "       15, 13, 28, 28,  3, 25,  1, 27,  1, 12, 24, 24,  9, 29, 20, 20, 27,\n",
       "       24, 12, 20, 20, 20, 21,  1, 16,  5,  2, 16, 13, 18,  2,  0, 16,  2,\n",
       "        0,  9,  1,  2,  2,  1, 29,  1,  6, 22,  3, 29,  3,  8, 13,  0, 27,\n",
       "        9, 29,  3,  0, 17,  9, 27, 17,  0, 12, 12, 11,  2,  7, 19,  7,  3,\n",
       "       25, 24, 27,  7, 20,  7,  7, 11,  7, 21, 21, 21, 21, 21, 21, 18,  2,\n",
       "       15, 19,  2, 15, 15, 15,  2, 22, 10, 29,  0, 29, 29, 25, 20,  7,  3,\n",
       "        6, 26, 22,  1,  8, 23,  6,  0, 12,  1, 23, 19, 19, 16,  6, 17,  2,\n",
       "        2,  1, 22, 25, 24, 19, 13, 16, 12,  5, 18, 23, 18, 25,  5,  2,  1,\n",
       "       12, 19, 19, 13, 21, 23, 23, 25, 16, 20, 19,  1, 23, 18, 20, 28,  6,\n",
       "       17,  3,  1,  7, 24, 10, 14, 10,  0,  7,  1])"
      ]
     },
     "execution_count": 1381,
     "metadata": {},
     "output_type": "execute_result"
    }
   ],
   "source": [
    "# do a sample hierarchical clustering on seed set\n",
    "clustering = AgglomerativeClustering(n_clusters=30).fit(seed_X)\n",
    "clustering.labels_"
   ]
  },
  {
   "cell_type": "code",
   "execution_count": 1304,
   "id": "b690ad9e",
   "metadata": {},
   "outputs": [],
   "source": [
    "# construct a sample tree for hierarchical clustering, which will be useful for the hierarchical_clustering function\n",
    "ii = itertools.count(len(seed_X))\n",
    "tree = [{'node_id': next(ii), 'left': x[0], 'right':x[1]} for x in clustering.children_]"
   ]
  },
  {
   "cell_type": "code",
   "execution_count": 1384,
   "id": "6e45749b",
   "metadata": {},
   "outputs": [
    {
     "data": {
      "text/plain": [
       "[{'node_id': 300, 'left': 75, 'right': 77},\n",
       " {'node_id': 301, 'left': 72, 'right': 300},\n",
       " {'node_id': 302, 'left': 151, 'right': 156},\n",
       " {'node_id': 303, 'left': 34, 'right': 39},\n",
       " {'node_id': 304, 'left': 6, 'right': 46},\n",
       " {'node_id': 305, 'left': 221, 'right': 224},\n",
       " {'node_id': 306, 'left': 243, 'right': 248},\n",
       " {'node_id': 307, 'left': 28, 'right': 102},\n",
       " {'node_id': 308, 'left': 21, 'right': 271},\n",
       " {'node_id': 309, 'left': 208, 'right': 235},\n",
       " {'node_id': 310, 'left': 108, 'right': 231},\n",
       " {'node_id': 311, 'left': 64, 'right': 138},\n",
       " {'node_id': 312, 'left': 155, 'right': 302},\n",
       " {'node_id': 313, 'left': 71, 'right': 301},\n",
       " {'node_id': 314, 'left': 116, 'right': 146},\n",
       " {'node_id': 315, 'left': 20, 'right': 88},\n",
       " {'node_id': 316, 'left': 130, 'right': 137},\n",
       " {'node_id': 317, 'left': 220, 'right': 227},\n",
       " {'node_id': 318, 'left': 27, 'right': 49},\n",
       " {'node_id': 319, 'left': 101, 'right': 259},\n",
       " {'node_id': 320, 'left': 214, 'right': 218},\n",
       " {'node_id': 321, 'left': 176, 'right': 181},\n",
       " {'node_id': 322, 'left': 164, 'right': 261},\n",
       " {'node_id': 323, 'left': 16, 'right': 289},\n",
       " {'node_id': 324, 'left': 106, 'right': 307},\n",
       " {'node_id': 325, 'left': 157, 'right': 281},\n",
       " {'node_id': 326, 'left': 61, 'right': 163},\n",
       " {'node_id': 327, 'left': 139, 'right': 287},\n",
       " {'node_id': 328, 'left': 8, 'right': 9},\n",
       " {'node_id': 329, 'left': 30, 'right': 37},\n",
       " {'node_id': 330, 'left': 87, 'right': 96},\n",
       " {'node_id': 331, 'left': 184, 'right': 303},\n",
       " {'node_id': 332, 'left': 67, 'right': 264},\n",
       " {'node_id': 333, 'left': 269, 'right': 315},\n",
       " {'node_id': 334, 'left': 117, 'right': 295},\n",
       " {'node_id': 335, 'left': 121, 'right': 244},\n",
       " {'node_id': 336, 'left': 199, 'right': 317},\n",
       " {'node_id': 337, 'left': 95, 'right': 123},\n",
       " {'node_id': 338, 'left': 55, 'right': 57},\n",
       " {'node_id': 339, 'left': 120, 'right': 129},\n",
       " {'node_id': 340, 'left': 43, 'right': 48},\n",
       " {'node_id': 341, 'left': 270, 'right': 336},\n",
       " {'node_id': 342, 'left': 230, 'right': 233},\n",
       " {'node_id': 343, 'left': 82, 'right': 207},\n",
       " {'node_id': 344, 'left': 256, 'right': 291},\n",
       " {'node_id': 345, 'left': 4, 'right': 280},\n",
       " {'node_id': 346, 'left': 33, 'right': 275},\n",
       " {'node_id': 347, 'left': 145, 'right': 154},\n",
       " {'node_id': 348, 'left': 91, 'right': 293},\n",
       " {'node_id': 349, 'left': 149, 'right': 321},\n",
       " {'node_id': 350, 'left': 0, 'right': 45},\n",
       " {'node_id': 351, 'left': 158, 'right': 215},\n",
       " {'node_id': 352, 'left': 201, 'right': 274},\n",
       " {'node_id': 353, 'left': 225, 'right': 305},\n",
       " {'node_id': 354, 'left': 36, 'right': 179},\n",
       " {'node_id': 355, 'left': 292, 'right': 298},\n",
       " {'node_id': 356, 'left': 286, 'right': 312},\n",
       " {'node_id': 357, 'left': 105, 'right': 112},\n",
       " {'node_id': 358, 'left': 160, 'right': 168},\n",
       " {'node_id': 359, 'left': 204, 'right': 258},\n",
       " {'node_id': 360, 'left': 25, 'right': 232},\n",
       " {'node_id': 361, 'left': 252, 'right': 324},\n",
       " {'node_id': 362, 'left': 150, 'right': 309},\n",
       " {'node_id': 363, 'left': 167, 'right': 195},\n",
       " {'node_id': 364, 'left': 52, 'right': 97},\n",
       " {'node_id': 365, 'left': 140, 'right': 290},\n",
       " {'node_id': 366, 'left': 147, 'right': 314},\n",
       " {'node_id': 367, 'left': 81, 'right': 350},\n",
       " {'node_id': 368, 'left': 216, 'right': 351},\n",
       " {'node_id': 369, 'left': 15, 'right': 85},\n",
       " {'node_id': 370, 'left': 229, 'right': 364},\n",
       " {'node_id': 371, 'left': 32, 'right': 190},\n",
       " {'node_id': 372, 'left': 238, 'right': 335},\n",
       " {'node_id': 373, 'left': 142, 'right': 144},\n",
       " {'node_id': 374, 'left': 23, 'right': 254},\n",
       " {'node_id': 375, 'left': 26, 'right': 153},\n",
       " {'node_id': 376, 'left': 62, 'right': 99},\n",
       " {'node_id': 377, 'left': 135, 'right': 141},\n",
       " {'node_id': 378, 'left': 41, 'right': 253},\n",
       " {'node_id': 379, 'left': 196, 'right': 197},\n",
       " {'node_id': 380, 'left': 56, 'right': 247},\n",
       " {'node_id': 381, 'left': 316, 'right': 331},\n",
       " {'node_id': 382, 'left': 74, 'right': 313},\n",
       " {'node_id': 383, 'left': 191, 'right': 323},\n",
       " {'node_id': 384, 'left': 326, 'right': 358},\n",
       " {'node_id': 385, 'left': 60, 'right': 188},\n",
       " {'node_id': 386, 'left': 47, 'right': 304},\n",
       " {'node_id': 387, 'left': 205, 'right': 337},\n",
       " {'node_id': 388, 'left': 175, 'right': 177},\n",
       " {'node_id': 389, 'left': 1, 'right': 282},\n",
       " {'node_id': 390, 'left': 2, 'right': 226},\n",
       " {'node_id': 391, 'left': 299, 'right': 308},\n",
       " {'node_id': 392, 'left': 217, 'right': 276},\n",
       " {'node_id': 393, 'left': 161, 'right': 332},\n",
       " {'node_id': 394, 'left': 90, 'right': 98},\n",
       " {'node_id': 395, 'left': 283, 'right': 329},\n",
       " {'node_id': 396, 'left': 348, 'right': 387},\n",
       " {'node_id': 397, 'left': 11, 'right': 68},\n",
       " {'node_id': 398, 'left': 166, 'right': 169},\n",
       " {'node_id': 399, 'left': 110, 'right': 170},\n",
       " {'node_id': 400, 'left': 119, 'right': 245},\n",
       " {'node_id': 401, 'left': 310, 'right': 357},\n",
       " {'node_id': 402, 'left': 51, 'right': 330},\n",
       " {'node_id': 403, 'left': 325, 'right': 362},\n",
       " {'node_id': 404, 'left': 322, 'right': 346},\n",
       " {'node_id': 405, 'left': 246, 'right': 263},\n",
       " {'node_id': 406, 'left': 83, 'right': 183},\n",
       " {'node_id': 407, 'left': 134, 'right': 136},\n",
       " {'node_id': 408, 'left': 66, 'right': 210},\n",
       " {'node_id': 409, 'left': 19, 'right': 340},\n",
       " {'node_id': 410, 'left': 53, 'right': 178},\n",
       " {'node_id': 411, 'left': 111, 'right': 189},\n",
       " {'node_id': 412, 'left': 143, 'right': 206},\n",
       " {'node_id': 413, 'left': 234, 'right': 377},\n",
       " {'node_id': 414, 'left': 17, 'right': 59},\n",
       " {'node_id': 415, 'left': 89, 'right': 338},\n",
       " {'node_id': 416, 'left': 180, 'right': 182},\n",
       " {'node_id': 417, 'left': 103, 'right': 361},\n",
       " {'node_id': 418, 'left': 278, 'right': 284},\n",
       " {'node_id': 419, 'left': 126, 'right': 165},\n",
       " {'node_id': 420, 'left': 3, 'right': 328},\n",
       " {'node_id': 421, 'left': 86, 'right': 131},\n",
       " {'node_id': 422, 'left': 124, 'right': 127},\n",
       " {'node_id': 423, 'left': 213, 'right': 392},\n",
       " {'node_id': 424, 'left': 14, 'right': 384},\n",
       " {'node_id': 425, 'left': 58, 'right': 294},\n",
       " {'node_id': 426, 'left': 13, 'right': 272},\n",
       " {'node_id': 427, 'left': 38, 'right': 159},\n",
       " {'node_id': 428, 'left': 237, 'right': 365},\n",
       " {'node_id': 429, 'left': 118, 'right': 371},\n",
       " {'node_id': 430, 'left': 63, 'right': 223},\n",
       " {'node_id': 431, 'left': 93, 'right': 104},\n",
       " {'node_id': 432, 'left': 251, 'right': 345},\n",
       " {'node_id': 433, 'left': 172, 'right': 388},\n",
       " {'node_id': 434, 'left': 7, 'right': 391},\n",
       " {'node_id': 435, 'left': 162, 'right': 398},\n",
       " {'node_id': 436, 'left': 209, 'right': 355},\n",
       " {'node_id': 437, 'left': 320, 'right': 368},\n",
       " {'node_id': 438, 'left': 186, 'right': 422},\n",
       " {'node_id': 439, 'left': 12, 'right': 222},\n",
       " {'node_id': 440, 'left': 132, 'right': 376},\n",
       " {'node_id': 441, 'left': 24, 'right': 273},\n",
       " {'node_id': 442, 'left': 78, 'right': 79},\n",
       " {'node_id': 443, 'left': 22, 'right': 171},\n",
       " {'node_id': 444, 'left': 185, 'right': 400},\n",
       " {'node_id': 445, 'left': 125, 'right': 187},\n",
       " {'node_id': 446, 'left': 50, 'right': 341},\n",
       " {'node_id': 447, 'left': 260, 'right': 352},\n",
       " {'node_id': 448, 'left': 342, 'right': 360},\n",
       " {'node_id': 449, 'left': 319, 'right': 375},\n",
       " {'node_id': 450, 'left': 219, 'right': 285},\n",
       " {'node_id': 451, 'left': 29, 'right': 257},\n",
       " {'node_id': 452, 'left': 268, 'right': 279},\n",
       " {'node_id': 453, 'left': 192, 'right': 421},\n",
       " {'node_id': 454, 'left': 35, 'right': 240},\n",
       " {'node_id': 455, 'left': 311, 'right': 327},\n",
       " {'node_id': 456, 'left': 92, 'right': 203},\n",
       " {'node_id': 457, 'left': 80, 'right': 334},\n",
       " {'node_id': 458, 'left': 297, 'right': 363},\n",
       " {'node_id': 459, 'left': 122, 'right': 242},\n",
       " {'node_id': 460, 'left': 250, 'right': 447},\n",
       " {'node_id': 461, 'left': 18, 'right': 198},\n",
       " {'node_id': 462, 'left': 356, 'right': 403},\n",
       " {'node_id': 463, 'left': 40, 'right': 378},\n",
       " {'node_id': 464, 'left': 249, 'right': 439},\n",
       " {'node_id': 465, 'left': 65, 'right': 390},\n",
       " {'node_id': 466, 'left': 255, 'right': 430},\n",
       " {'node_id': 467, 'left': 5, 'right': 359},\n",
       " {'node_id': 468, 'left': 241, 'right': 395},\n",
       " {'node_id': 469, 'left': 265, 'right': 267},\n",
       " {'node_id': 470, 'left': 228, 'right': 354},\n",
       " {'node_id': 471, 'left': 42, 'right': 174},\n",
       " {'node_id': 472, 'left': 193, 'right': 438},\n",
       " {'node_id': 473, 'left': 114, 'right': 239},\n",
       " {'node_id': 474, 'left': 333, 'right': 393},\n",
       " {'node_id': 475, 'left': 128, 'right': 411},\n",
       " {'node_id': 476, 'left': 84, 'right': 383},\n",
       " {'node_id': 477, 'left': 420, 'right': 434},\n",
       " {'node_id': 478, 'left': 288, 'right': 417},\n",
       " {'node_id': 479, 'left': 100, 'right': 457},\n",
       " {'node_id': 480, 'left': 296, 'right': 425},\n",
       " {'node_id': 481, 'left': 370, 'right': 402},\n",
       " {'node_id': 482, 'left': 133, 'right': 440},\n",
       " {'node_id': 483, 'left': 202, 'right': 436},\n",
       " {'node_id': 484, 'left': 31, 'right': 381},\n",
       " {'node_id': 485, 'left': 266, 'right': 277},\n",
       " {'node_id': 486, 'left': 173, 'right': 471},\n",
       " {'node_id': 487, 'left': 373, 'right': 468},\n",
       " {'node_id': 488, 'left': 113, 'right': 456},\n",
       " {'node_id': 489, 'left': 69, 'right': 385},\n",
       " {'node_id': 490, 'left': 339, 'right': 372},\n",
       " {'node_id': 491, 'left': 212, 'right': 236},\n",
       " {'node_id': 492, 'left': 262, 'right': 432},\n",
       " {'node_id': 493, 'left': 73, 'right': 76},\n",
       " {'node_id': 494, 'left': 148, 'right': 443},\n",
       " {'node_id': 495, 'left': 428, 'right': 475},\n",
       " {'node_id': 496, 'left': 367, 'right': 489},\n",
       " {'node_id': 497, 'left': 318, 'right': 459},\n",
       " {'node_id': 498, 'left': 399, 'right': 444},\n",
       " {'node_id': 499, 'left': 344, 'right': 380},\n",
       " {'node_id': 500, 'left': 407, 'right': 465},\n",
       " {'node_id': 501, 'left': 366, 'right': 396},\n",
       " {'node_id': 502, 'left': 107, 'right': 460},\n",
       " {'node_id': 503, 'left': 369, 'right': 484},\n",
       " {'node_id': 504, 'left': 194, 'right': 414},\n",
       " {'node_id': 505, 'left': 374, 'right': 466},\n",
       " {'node_id': 506, 'left': 152, 'right': 412},\n",
       " {'node_id': 507, 'left': 433, 'right': 487},\n",
       " {'node_id': 508, 'left': 397, 'right': 455},\n",
       " {'node_id': 509, 'left': 405, 'right': 426},\n",
       " {'node_id': 510, 'left': 10, 'right': 424},\n",
       " {'node_id': 511, 'left': 389, 'right': 441},\n",
       " {'node_id': 512, 'left': 109, 'right': 473},\n",
       " {'node_id': 513, 'left': 115, 'right': 454},\n",
       " {'node_id': 514, 'left': 394, 'right': 488},\n",
       " {'node_id': 515, 'left': 429, 'right': 458},\n",
       " {'node_id': 516, 'left': 413, 'right': 467},\n",
       " {'node_id': 517, 'left': 445, 'right': 453},\n",
       " {'node_id': 518, 'left': 415, 'right': 480},\n",
       " {'node_id': 519, 'left': 410, 'right': 478},\n",
       " {'node_id': 520, 'left': 451, 'right': 470},\n",
       " {'node_id': 521, 'left': 401, 'right': 431},\n",
       " {'node_id': 522, 'left': 94, 'right': 419},\n",
       " {'node_id': 523, 'left': 418, 'right': 485},\n",
       " {'node_id': 524, 'left': 211, 'right': 461},\n",
       " {'node_id': 525, 'left': 409, 'right': 497},\n",
       " {'node_id': 526, 'left': 450, 'right': 522},\n",
       " {'node_id': 527, 'left': 408, 'right': 483},\n",
       " {'node_id': 528, 'left': 449, 'right': 501},\n",
       " {'node_id': 529, 'left': 452, 'right': 516},\n",
       " {'node_id': 530, 'left': 70, 'right': 524},\n",
       " {'node_id': 531, 'left': 349, 'right': 448},\n",
       " {'node_id': 532, 'left': 416, 'right': 495},\n",
       " {'node_id': 533, 'left': 200, 'right': 343},\n",
       " {'node_id': 534, 'left': 347, 'right': 379},\n",
       " {'node_id': 535, 'left': 44, 'right': 386},\n",
       " {'node_id': 536, 'left': 435, 'right': 505},\n",
       " {'node_id': 537, 'left': 353, 'right': 500},\n",
       " {'node_id': 538, 'left': 482, 'right': 512},\n",
       " {'node_id': 539, 'left': 498, 'right': 521},\n",
       " {'node_id': 540, 'left': 472, 'right': 506},\n",
       " {'node_id': 541, 'left': 463, 'right': 504},\n",
       " {'node_id': 542, 'left': 464, 'right': 511},\n",
       " {'node_id': 543, 'left': 492, 'right': 510},\n",
       " {'node_id': 544, 'left': 446, 'right': 486},\n",
       " {'node_id': 545, 'left': 496, 'right': 531},\n",
       " {'node_id': 546, 'left': 404, 'right': 503},\n",
       " {'node_id': 547, 'left': 499, 'right': 507},\n",
       " {'node_id': 548, 'left': 423, 'right': 437},\n",
       " {'node_id': 549, 'left': 491, 'right': 527},\n",
       " {'node_id': 550, 'left': 502, 'right': 542},\n",
       " {'node_id': 551, 'left': 513, 'right': 520},\n",
       " {'node_id': 552, 'left': 481, 'right': 518},\n",
       " {'node_id': 553, 'left': 509, 'right': 534},\n",
       " {'node_id': 554, 'left': 54, 'right': 479},\n",
       " {'node_id': 555, 'left': 490, 'right': 519},\n",
       " {'node_id': 556, 'left': 476, 'right': 541},\n",
       " {'node_id': 557, 'left': 306, 'right': 523},\n",
       " {'node_id': 558, 'left': 427, 'right': 477},\n",
       " {'node_id': 559, 'left': 494, 'right': 517},\n",
       " {'node_id': 560, 'left': 442, 'right': 530},\n",
       " {'node_id': 561, 'left': 469, 'right': 526},\n",
       " {'node_id': 562, 'left': 474, 'right': 535},\n",
       " {'node_id': 563, 'left': 533, 'right': 549},\n",
       " {'node_id': 564, 'left': 406, 'right': 525},\n",
       " {'node_id': 565, 'left': 382, 'right': 493},\n",
       " {'node_id': 566, 'left': 514, 'right': 532},\n",
       " {'node_id': 567, 'left': 547, 'right': 558},\n",
       " {'node_id': 568, 'left': 536, 'right': 544},\n",
       " {'node_id': 569, 'left': 515, 'right': 539},\n",
       " {'node_id': 570, 'left': 545, 'right': 546},\n",
       " {'node_id': 571, 'left': 508, 'right': 543},\n",
       " {'node_id': 572, 'left': 540, 'right': 557},\n",
       " {'node_id': 573, 'left': 553, 'right': 556},\n",
       " {'node_id': 574, 'left': 529, 'right': 538},\n",
       " {'node_id': 575, 'left': 528, 'right': 554},\n",
       " {'node_id': 576, 'left': 562, 'right': 571},\n",
       " {'node_id': 577, 'left': 552, 'right': 559},\n",
       " {'node_id': 578, 'left': 551, 'right': 574},\n",
       " {'node_id': 579, 'left': 462, 'right': 548},\n",
       " {'node_id': 580, 'left': 550, 'right': 569},\n",
       " {'node_id': 581, 'left': 561, 'right': 576},\n",
       " {'node_id': 582, 'left': 564, 'right': 570},\n",
       " {'node_id': 583, 'left': 563, 'right': 566},\n",
       " {'node_id': 584, 'left': 537, 'right': 568},\n",
       " {'node_id': 585, 'left': 573, 'right': 577},\n",
       " {'node_id': 586, 'left': 555, 'right': 580},\n",
       " {'node_id': 587, 'left': 575, 'right': 586},\n",
       " {'node_id': 588, 'left': 560, 'right': 565},\n",
       " {'node_id': 589, 'left': 572, 'right': 583},\n",
       " {'node_id': 590, 'left': 578, 'right': 584},\n",
       " {'node_id': 591, 'left': 567, 'right': 579},\n",
       " {'node_id': 592, 'left': 581, 'right': 582},\n",
       " {'node_id': 593, 'left': 590, 'right': 592},\n",
       " {'node_id': 594, 'left': 589, 'right': 591},\n",
       " {'node_id': 595, 'left': 585, 'right': 587},\n",
       " {'node_id': 596, 'left': 594, 'right': 595},\n",
       " {'node_id': 597, 'left': 588, 'right': 593},\n",
       " {'node_id': 598, 'left': 596, 'right': 597}]"
      ]
     },
     "execution_count": 1384,
     "metadata": {},
     "output_type": "execute_result"
    }
   ],
   "source": [
    "tree"
   ]
  },
  {
   "cell_type": "markdown",
   "id": "0a856854",
   "metadata": {},
   "source": [
    "First, try different hierarchical clustering methods to select the most suitable one."
   ]
  },
  {
   "cell_type": "code",
   "execution_count": 1306,
   "id": "7fcd1326",
   "metadata": {},
   "outputs": [],
   "source": [
    "# construct U, the pool of unlabelled instances and their hidden labels\n",
    "U_X = []\n",
    "U_y = []\n",
    "# construct L, the set of initial labelled instances\n",
    "L_X = []\n",
    "L_y = []\n",
    "for index in range(len(X_pool)):\n",
    "    if index not in seed_set:\n",
    "        U_X.append(X_pool[index])\n",
    "        U_y.append(y_pool[index])\n",
    "    else:\n",
    "        L_X.append(X_pool[index])\n",
    "        L_y.append(y_pool[index])"
   ]
  },
  {
   "cell_type": "code",
   "execution_count": 1308,
   "id": "a901c10b",
   "metadata": {},
   "outputs": [
    {
     "data": {
      "text/plain": [
       "<Figure size 432x288 with 0 Axes>"
      ]
     },
     "metadata": {},
     "output_type": "display_data"
    },
    {
     "data": {
      "image/png": "[encoded data removed]",
      "text/plain": [
       "<Figure size 1800x720 with 1 Axes>"
      ]
     },
     "metadata": {
      "needs_background": "light"
     },
     "output_type": "display_data"
    }
   ],
   "source": [
    "Z = linkage(L_X, 'ward')\n",
    "plt.figure()\n",
    "fig = plt.figure(figsize=(25, 10))\n",
    "dn = hierarchy.dendrogram(Z)"
   ]
  },
  {
   "cell_type": "code",
   "execution_count": 1309,
   "id": "4a7d25cc",
   "metadata": {},
   "outputs": [
    {
     "data": {
      "text/plain": [
       "<Figure size 432x288 with 0 Axes>"
      ]
     },
     "metadata": {},
     "output_type": "display_data"
    },
    {
     "data": {
      "image/png": "[encoded data removed]",
      "text/plain": [
       "<Figure size 1800x720 with 1 Axes>"
      ]
     },
     "metadata": {
      "needs_background": "light"
     },
     "output_type": "display_data"
    }
   ],
   "source": [
    "Z = linkage(L_X, 'average')\n",
    "plt.figure()\n",
    "fig = plt.figure(figsize=(25, 10))\n",
    "dn = hierarchy.dendrogram(Z)"
   ]
  },
  {
   "cell_type": "code",
   "execution_count": 1310,
   "id": "e675e67d",
   "metadata": {},
   "outputs": [
    {
     "data": {
      "text/plain": [
       "<Figure size 432x288 with 0 Axes>"
      ]
     },
     "metadata": {},
     "output_type": "display_data"
    },
    {
     "data": {
      "image/png": "[encoded data removed]",
      "text/plain": [
       "<Figure size 1800x720 with 1 Axes>"
      ]
     },
     "metadata": {
      "needs_background": "light"
     },
     "output_type": "display_data"
    }
   ],
   "source": [
    "Z = linkage(L_X, 'single')\n",
    "plt.figure()\n",
    "fig = plt.figure(figsize=(25, 10))\n",
    "dn = hierarchy.dendrogram(Z)"
   ]
  },
  {
   "cell_type": "markdown",
   "id": "62421ff0",
   "metadata": {},
   "source": [
    "Using Ward variance minimization algorithm gives the most sensible hierarchical clustering, so I will continuous to use this algorithm to do hierarchical clustering in the following functions."
   ]
  },
  {
   "cell_type": "code",
   "execution_count": 1312,
   "id": "fdb2b648",
   "metadata": {},
   "outputs": [],
   "source": [
    "def hierarchical_sampling(X_pool, seed_set, batch_size, max_size, select):\n",
    "    \n",
    "    # clusters: Hierarchical clustering of unlabelled points = X_pool - seed_X\n",
    "    # select: controls the selective sampling\n",
    "    \n",
    "    # Z = ward(pdist(seed_X)) # linkage matrix of data\n",
    "    # T = fcluster(Z, 30, criterion='distance') cluster\n",
    "    \n",
    "    \n",
    "    # construct U, the pool of unlabelled instances and their hidden labels\n",
    "    U_X = []\n",
    "    U_y = []\n",
    "    # construct L, the set of initial labelled instances\n",
    "    L_X = []\n",
    "    L_y = []\n",
    "    for index in range(len(X_pool)):\n",
    "        if index not in seed_set:\n",
    "            U_X.append(X_pool[index])\n",
    "            U_y.append(y_pool[index])\n",
    "        else:\n",
    "            L_X.append(X_pool[index])\n",
    "            L_y.append(y_pool[index])\n",
    "\n",
    "    # perform hierarchical clustering\n",
    "    clustering = AgglomerativeClustering(n_clusters=30, affinity='euclidean', linkage='ward').fit(L_X)\n",
    "    # construct the tree\n",
    "    ii = itertools.count(len(seed_X))\n",
    "    tree = [{'node_id': next(ii), 'left': x[0], 'right':x[1]} for x in clustering.children_]\n",
    "    root = tree[-1]\n",
    "    P = [root] # current pruning of tree\n",
    "    \n",
    "    b = batch_size\n",
    "    T = int(max_size/batch_size)\n",
    "    \n",
    "    for t in range(0, T):\n",
    "        for i in range(batch_size):\n",
    "            \n",
    "            # select \n",
    "            node_id = select_node(P) # select a node from pruning\n",
    "            r = select_instance(get_instance(node_id, tree)) \n",
    "            j = r.index(max(r)) \n",
    "            \n",
    "            # query the label\n",
    "            x_j = U_X[j]\n",
    "            L_X.append(np.array(x_j))\n",
    "            U_X.pop(j)\n",
    "            y_j = U_y[j]\n",
    "            L_y.append(np.array(y_j))\n",
    "            U_y.pop(j)\n",
    "            \n",
    "            # assume a dictionary called cluster_dict is constructed for each node with the following structures:\n",
    "            # {\"node_id\":int, \"label1\":int, \"label2\":int, ..., \"label30\": int, \"total\":int}\n",
    "            \n",
    "            # update the counts and probabilities\n",
    "            cluster_dict[\"node_id\"==node_id][\"y_j\"] += 1 \n",
    "            cluster_dict[\"node_id\"==node_id][\"total\"] += 1 \n",
    "            for node in find_descendent(node_id, tree):\n",
    "                cluster_dict[\"node_id\"==node][\"total\"] += 1\n",
    "            \n",
    "    pass"
   ]
  },
  {
   "cell_type": "code",
   "execution_count": null,
   "id": "23c7961f",
   "metadata": {},
   "outputs": [],
   "source": [
    "# pick a point z from a set of instances\n",
    "def select_instance(X):\n",
    "    pass"
   ]
  },
  {
   "cell_type": "code",
   "execution_count": null,
   "id": "1d6c5c3f",
   "metadata": {},
   "outputs": [],
   "source": [
    "# a helper function which find the set of unlabelled instances of a given node in the given tree\n",
    "def get_instance(node_id, tree):\n",
    "    pass"
   ]
  },
  {
   "cell_type": "code",
   "execution_count": null,
   "id": "ec111a87",
   "metadata": {},
   "outputs": [],
   "source": [
    "# select a node from pruning of tree\n",
    "def select_node(P):\n",
    "    pass"
   ]
  },
  {
   "cell_type": "code",
   "execution_count": null,
   "id": "6d5e0a35",
   "metadata": {},
   "outputs": [],
   "source": [
    "# return a list descendent nodes of a given node_id\n",
    "def find_descendent(node_id, tree):\n",
    "    pass"
   ]
  },
  {
   "cell_type": "markdown",
   "id": "656f416f",
   "metadata": {},
   "source": [
    "The above hierarchical_sampling function is not completed implemented, since I don't havs any ideas about how to find the data instances within a node (cluster). Without that, any scores or probabilities are impossible to compute (sad face). "
   ]
  },
  {
   "cell_type": "code",
   "execution_count": null,
   "id": "42a79201",
   "metadata": {},
   "outputs": [],
   "source": []
  }
 ],
 "metadata": {
  "kernelspec": {
   "display_name": "Python 3",
   "language": "python",
   "name": "python3"
  },
  "language_info": {
   "codemirror_mode": {
    "name": "ipython",
    "version": 3
   },
   "file_extension": ".py",
   "mimetype": "text/x-python",
   "name": "python",
   "nbconvert_exporter": "python",
   "pygments_lexer": "ipython3",
   "version": "3.8.8"
  }
 },
 "nbformat": 4,
 "nbformat_minor": 5
}
