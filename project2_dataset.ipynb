{
 "cells": [
  {
   "cell_type": "markdown",
   "id": "settled-melissa",
   "metadata": {},
   "source": [
    "First download and extract [this zipfile from the Omniglot dataset](https://github.com/brendenlake/omniglot/blob/master/python/images_background.zip) into the same folder holding the noteboook. This will create a folder `images_background` containing a hierarchy of folders for alphabets and characters, with each leaf folder containing several hand-drawn images of that character.\n"
   ]
  },
  {
   "cell_type": "code",
   "execution_count": 1,
   "id": "iraqi-recommendation",
   "metadata": {},
   "outputs": [],
   "source": [
    "import numpy as np\n",
    "from matplotlib import pyplot as plt\n",
    "from PIL import Image\n",
    "import os\n",
    "import random"
   ]
  },
  {
   "cell_type": "markdown",
   "id": "defined-great",
   "metadata": {},
   "source": [
    "First load the dataset. We'll just load all images as matrix of black and white pixel values, and store for each instance the alphabet which will serve as the class label."
   ]
  },
  {
   "cell_type": "code",
   "execution_count": 2,
   "id": "numerous-edinburgh",
   "metadata": {},
   "outputs": [
    {
     "name": "stdout",
     "output_type": "stream",
     "text": [
      "Loaded 19280 images with 30 unique labels\n"
     ]
    }
   ],
   "source": [
    "img_dir = 'images_background'\n",
    "images = []\n",
    "labels = []\n",
    "for alphabet_name in os.listdir(img_dir):\n",
    "    if alphabet_name[0] == '.': continue\n",
    "        \n",
    "    alphabet_dir = os.path.join(img_dir,alphabet_name)\n",
    "    for char_name in os.listdir(alphabet_dir):\n",
    "        if char_name[0] == '.': continue\n",
    "            \n",
    "        char_dir = os.path.join(img_dir, alphabet_name, char_name)\n",
    "        for img_fname in os.listdir(char_dir):\n",
    "            if img_fname[0] == '.': continue\n",
    "                \n",
    "            img = np.array(Image.open(os.path.join(char_dir,img_fname)), dtype=bool)\n",
    "            images.append(img)\n",
    "            labels.append(alphabet_name)\n",
    "\n",
    "print('Loaded', len(images), 'images with', len(set(labels)), 'unique labels')"
   ]
  },
  {
   "cell_type": "markdown",
   "id": "specified-novelty",
   "metadata": {},
   "source": [
    "Display some of the images, to get a feel for the dataset."
   ]
  },
  {
   "cell_type": "code",
   "execution_count": 3,
   "id": "nutritional-conviction",
   "metadata": {},
   "outputs": [
    {
     "data": {
      "image/png": "[encoded data removed]",
      "text/plain": [
       "<Figure size 1008x576 with 24 Axes>"
      ]
     },
     "metadata": {
      "needs_background": "light"
     },
     "output_type": "display_data"
    }
   ],
   "source": [
    "_, axes = plt.subplots(nrows=4, ncols=6, figsize=(14, 8))\n",
    "for axr in axes:\n",
    "    for ax in axr: \n",
    "        ax.set_axis_off()\n",
    "        i = random.randint(0,len(images))\n",
    "        ax.imshow(images[i], cmap=plt.cm.gray_r, interpolation='nearest')\n",
    "        ax.set_title(f'{labels[i]}')"
   ]
  },
  {
   "cell_type": "markdown",
   "id": "diagnostic-cosmetic",
   "metadata": {},
   "source": [
    "Embeds the images using a pre-trained vision model. This will reduce the size of feature representation from 105x105 binary values to a vector of 1000 real values. There are other ways in which the images can be converted to feature representations, e.g., by flattening the images to 11k vectors,  by processing the original inputs using a convolutional network, applying a method for dimensionality reduction, etc. What you do at this step, if anything, is up to you."
   ]
  },
  {
   "cell_type": "code",
   "execution_count": 6,
   "id": "concerned-vessel",
   "metadata": {},
   "outputs": [
    {
     "name": "stderr",
     "output_type": "stream",
     "text": [
      "100%|██████████| 302/302 [54:31<00:00, 10.83s/it]   \n"
     ]
    },
    {
     "data": {
      "text/plain": [
       "torch.Size([19280, 1000])"
      ]
     },
     "execution_count": 6,
     "metadata": {},
     "output_type": "execute_result"
    }
   ],
   "source": [
    "from PIL import Image\n",
    "import torch\n",
    "from torchvision import models, transforms as T\n",
    "from torch.utils.data import BatchSampler, SequentialSampler\n",
    "from tqdm import tqdm\n",
    "from os.path import exists\n",
    "\n",
    "# preprocessing pipeline to transform image into input image format \n",
    "# required by torchvision pretrained models\n",
    "preprocess = T.Compose([\n",
    "    T.Resize(224),\n",
    "    T.Grayscale(3),\n",
    "    T.ToTensor(),\n",
    "    T.Normalize(mean=[0.485, 0.456, 0.406], std=[0.229, 0.224, 0.225])\n",
    "])\n",
    "\n",
    "# use one of the smaller ResNet models (NB there are dozens others to choose from)\n",
    "model = models.resnet18(pretrained=True)\n",
    "model.eval()\n",
    "\n",
    "# process each image by transforming then embedding in small batches\n",
    "# this takes 20 mins or so\n",
    "with torch.no_grad():\n",
    "    embedded_images = []\n",
    "    for bids in tqdm(BatchSampler(SequentialSampler(range(len(images))), \n",
    "                                  batch_size=64, drop_last=False)):\n",
    "        bx = [preprocess(Image.fromarray(images[b])) for b in bids]\n",
    "        embedded_images.append(model(torch.stack(bx)))  \n",
    "\n",
    "    embedded_images = torch.cat(embedded_images)\n",
    "    torch.save(embedded_images, 'embedded.pt')\n",
    "\n",
    "embedded_images.shape"
   ]
  },
  {
   "cell_type": "code",
   "execution_count": null,
   "id": "smaller-content",
   "metadata": {},
   "outputs": [],
   "source": [
    "np.save('images.npy', embedded_images.numpy())\n",
    "np.save('labels.npy', labels)"
   ]
  },
  {
   "cell_type": "code",
   "execution_count": null,
   "id": "0b5cf89d",
   "metadata": {},
   "outputs": [],
   "source": []
  }
 ],
 "metadata": {
  "kernelspec": {
   "display_name": "Python 3",
   "language": "python",
   "name": "python3"
  },
  "language_info": {
   "codemirror_mode": {
    "name": "ipython",
    "version": 3
   },
   "file_extension": ".py",
   "mimetype": "text/x-python",
   "name": "python",
   "nbconvert_exporter": "python",
   "pygments_lexer": "ipython3",
   "version": "3.8.8"
  }
 },
 "nbformat": 4,
 "nbformat_minor": 5
}
