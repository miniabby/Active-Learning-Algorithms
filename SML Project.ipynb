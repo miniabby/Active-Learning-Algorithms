{
 "cells": [
  {
   "cell_type": "markdown",
   "id": "fc792e9e",
   "metadata": {},
   "source": [
    "# COMP90051 Project 2\n",
    "**Name:** *Kechen Zhao*\n",
    "\n",
    "**Student ID:** *957398*"
   ]
  },
  {
   "cell_type": "code",
   "execution_count": 2,
   "id": "iraqi-recommendation",
   "metadata": {},
   "outputs": [],
   "source": [
    "import numpy as np\n",
    "from matplotlib import pyplot as plt\n",
    "import os\n",
    "import random\n",
    "from sklearn.model_selection import train_test_split\n",
    "from collections import defaultdict\n",
    "\n",
    "import pandas as pd\n",
    "from sklearn.linear_model import LogisticRegression\n",
    "from sklearn import metrics\n",
    "import matplotlib.pyplot as plt\n",
    "from sklearn.linear_model import SGDClassifier\n",
    "from sklearn import svm\n",
    "import math\n",
    "from sklearn.cluster import AgglomerativeClustering\n",
    "import itertools\n",
    "from scipy.cluster.hierarchy import ward, fcluster, leaders, fclusterdata\n",
    "from scipy.spatial.distance import pdist\n",
    "from scipy.cluster import hierarchy\n",
    "import matplotlib.pyplot as plt"
   ]
  },
  {
   "cell_type": "code",
   "execution_count": 3,
   "id": "e5052765",
   "metadata": {},
   "outputs": [],
   "source": [
    "import warnings\n",
    "warnings.filterwarnings('ignore')"
   ]
  },
  {
   "cell_type": "markdown",
   "id": "defined-great",
   "metadata": {},
   "source": [
    "## 0. Loading the dataset"
   ]
  },
  {
   "cell_type": "code",
   "execution_count": 4,
   "id": "concerned-vessel",
   "metadata": {},
   "outputs": [],
   "source": [
    "# load the data files (download from the LMS)\n",
    "embedded_images = np.load('images.npy')\n",
    "labels = np.load('labels.npy')\n",
    "\n",
    "# split into pool & testing\n",
    "X_pool, X_test, y_pool, y_test = train_test_split(embedded_images, labels, \n",
    "                                                  test_size=0.5, random_state=1234, shuffle=True)\n",
    "\n",
    "# sample a seed set index: the initial dataset\n",
    "np.random.seed(1234)\n",
    "label2id = defaultdict(list)\n",
    "for i, label in enumerate(y_pool):\n",
    "    label2id[label].append(i)\n",
    "seed_set = []\n",
    "for label, ids in label2id.items():\n",
    "    seed_set.extend(np.random.choice(ids, size=10, replace=False))"
   ]
  },
  {
   "cell_type": "markdown",
   "id": "naval-income",
   "metadata": {},
   "source": [
    "## 1. Applying logistic regression"
   ]
  },
  {
   "cell_type": "code",
   "execution_count": 5,
   "id": "palestinian-preparation",
   "metadata": {},
   "outputs": [],
   "source": [
    "def train_logistic_regression(X, y, penalty, tol, C, max_iter, solver):\n",
    "    \"\"\"\n",
    "    Train a logistic regression model on dataset (X, y) and return trained model.\n",
    "    X: matrix of real values, size n x d\n",
    "    y: vector of string labels, size n\n",
    "    args: optional arguments e.g., for hyper-parameters\n",
    "    \"\"\"\n",
    "    \n",
    "    model = LogisticRegression(penalty='none',tol = tol, C = C, multi_class='multinomial', solver=solver, max_iter = max_iter)\n",
    "    model.fit(X, y)\n",
    "\n",
    "    return model\n",
    "\n",
    "    pass"
   ]
  },
  {
   "cell_type": "code",
   "execution_count": 6,
   "id": "bored-alberta",
   "metadata": {},
   "outputs": [],
   "source": [
    "def evaluate_logistic_regression_accuracy(Xt, yt, model):\n",
    "    \"\"\"\n",
    "    Apply logistic regression prediction on dataset Xt and evaluate accuracy against yt,\n",
    "    returing the accuracy results as a scalar.\n",
    "    Xt: matrix of real values, size m x d\n",
    "    yt: vector of string labels, size m\n",
    "    \"\"\"\n",
    "    \n",
    "    logmod = model\n",
    "\n",
    "    y_pred = logmod.predict(Xt)\n",
    "    scores = metrics.accuracy_score(yt, y_pred)\n",
    "    \n",
    "    return scores\n",
    "\n",
    "    pass"
   ]
  },
  {
   "cell_type": "code",
   "execution_count": 1357,
   "id": "b9ce8b2a",
   "metadata": {},
   "outputs": [],
   "source": [
    "# code here for training, evaluating & plotting results"
   ]
  },
  {
   "cell_type": "code",
   "execution_count": 7,
   "id": "c34027f3",
   "metadata": {},
   "outputs": [],
   "source": [
    "# hyper-parameter setup\n",
    "penalty = 'none'\n",
    "tol = 0.0001\n",
    "C = 1.0"
   ]
  },
  {
   "cell_type": "code",
   "execution_count": 1359,
   "id": "edfa5526",
   "metadata": {},
   "outputs": [
    {
     "name": "stdout",
     "output_type": "stream",
     "text": [
      "Accuracy trained based on seed set: 0.32354771784232367\n",
      "Accuracy trained based on seed set: 0.3224066390041494\n",
      "Accuracy trained based on seed set: 0.31742738589211617\n",
      "Accuracy trained based on seed set: 0.3176348547717842\n",
      "Accuracy trained based on seed set: 0.3220954356846473\n",
      "Accuracy trained based on seed set: 0.3200207468879668\n",
      "Accuracy trained based on seed set: 0.3172199170124481\n",
      "Accuracy trained based on seed set: 0.3244813278008299\n",
      "Accuracy trained based on seed set: 0.3220954356846473\n",
      "Accuracy trained based on seed set: 0.3219917012448133\n",
      "Accuracy trained based on seed set: 0.31908713692946056\n",
      "Accuracy trained based on seed set: 0.3233402489626556\n",
      "Accuracy trained based on seed set: 0.3203319502074689\n",
      "Accuracy trained based on seed set: 0.32136929460580915\n",
      "Accuracy trained based on seed set: 0.3216804979253112\n",
      "Accuracy trained based on seed set: 0.32053941908713696\n",
      "Accuracy trained based on seed set: 0.31939834024896263\n"
     ]
    },
    {
     "data": {
      "image/png": "[encoded data removed]",
      "text/plain": [
       "<Figure size 432x288 with 1 Axes>"
      ]
     },
     "metadata": {
      "needs_background": "light"
     },
     "output_type": "display_data"
    }
   ],
   "source": [
    "# find the suitable number of iterations\n",
    "iter_list = [1, 5, 10, 20, 30, 40, 50, 60, 70, 80, 90, 100, 500, 1000, 4000, 8000, 10000]\n",
    "\n",
    "iter_accuracy = []\n",
    "for num in iter_list:\n",
    "    model = train_logistic_regression(seed_X, np.array(seed_y), penalty, tol, C, max_iter, 'sag')\n",
    "    accuracy = evaluate_logistic_regression_accuracy(X_test, y_test, model)\n",
    "    print(\"Accuracy trained based on seed set:\", accuracy)\n",
    "    iter_accuracy.append(accuracy)\n",
    "    \n",
    "# plot accuracy score by seed set\n",
    "plt.plot(iter_list, iter_accuracy, 'o-')\n",
    "plt.show()"
   ]
  },
  {
   "cell_type": "markdown",
   "id": "b45f3046",
   "metadata": {},
   "source": [
    "The accuracies of models are quite stable under different number of iterations, so we choose iteration = 10 in order to shorten the running time."
   ]
  },
  {
   "cell_type": "code",
   "execution_count": 1360,
   "id": "5ea526f4",
   "metadata": {},
   "outputs": [],
   "source": [
    "max_iter = 10"
   ]
  },
  {
   "cell_type": "code",
   "execution_count": 1361,
   "id": "whole-grenada",
   "metadata": {},
   "outputs": [],
   "source": [
    "# seed set\n",
    "seed_X = []\n",
    "seed_y = []\n",
    "for index in seed_set:\n",
    "    seed_X.append(X_pool[index])\n",
    "    seed_y.append(y_pool[index])"
   ]
  },
  {
   "cell_type": "code",
   "execution_count": 1362,
   "id": "882441f9",
   "metadata": {},
   "outputs": [
    {
     "name": "stdout",
     "output_type": "stream",
     "text": [
      "Accuracy trained based on seed set by solver lbfgs: 0.27551867219917014\n",
      "Accuracy trained based on pool set by solver lbfgs: 0.34854771784232363\n",
      "Accuracy trained based on seed set by solver sag: 0.3200207468879668\n",
      "Accuracy trained based on pool set by solver sag: 0.566908713692946\n",
      "Accuracy trained based on seed set by solver saga: 0.3163900414937759\n",
      "Accuracy trained based on pool set by solver saga: 0.5477178423236515\n",
      "Accuracy trained based on seed set by solver newton-cg: 0.31483402489626555\n",
      "Accuracy trained based on pool set by solver newton-cg: 0.5935684647302905\n"
     ]
    }
   ],
   "source": [
    "# test for different solvers\n",
    "\n",
    "# Hyper-parameters set up\n",
    "solver_list = ['lbfgs', 'sag', 'saga', 'newton-cg']\n",
    "\n",
    "accuracy_seed_solver = []\n",
    "accuracy_pool_solver = []\n",
    "for solver in solver_list:\n",
    "    model_seed = train_logistic_regression(seed_X, seed_y, penalty, tol, C, max_iter, solver)\n",
    "    seed_score = evaluate_logistic_regression_accuracy(X_test, y_test, model_seed)\n",
    "    accuracy_seed_solver.append(seed_score)\n",
    "    print(f\"Accuracy trained based on seed set by solver {solver}:\", seed_score)\n",
    "    model_pool = train_logistic_regression(X_pool, y_pool, penalty, tol, C, max_iter, solver)\n",
    "    pool_score = evaluate_logistic_regression_accuracy(X_test, y_test, model_pool)\n",
    "    accuracy_pool_solver.append(pool_score)\n",
    "    print(f\"Accuracy trained based on pool set by solver {solver}:\", pool_score)"
   ]
  },
  {
   "cell_type": "code",
   "execution_count": 1363,
   "id": "9c23f0b3",
   "metadata": {},
   "outputs": [
    {
     "name": "stdout",
     "output_type": "stream",
     "text": [
      "[0.27551867219917014, 0.3200207468879668, 0.3163900414937759, 0.31483402489626555]\n"
     ]
    },
    {
     "data": {
      "image/png": "[encoded data removed]",
      "text/plain": [
       "<Figure size 432x288 with 1 Axes>"
      ]
     },
     "metadata": {
      "needs_background": "light"
     },
     "output_type": "display_data"
    }
   ],
   "source": [
    "# plot accuracy score by seed set\n",
    "print(accuracy_seed_solver)\n",
    "plt.plot(solver_list, accuracy_seed_solver, 'o-')\n",
    "plt.title(\"Model Accuracy under different solvers for seed set\")\n",
    "plt.xlabel(\"Solvers\")\n",
    "plt.ylabel(\"Model Accuracy\")\n",
    "plt.show()"
   ]
  },
  {
   "cell_type": "code",
   "execution_count": 1364,
   "id": "b51523b9",
   "metadata": {},
   "outputs": [
    {
     "name": "stdout",
     "output_type": "stream",
     "text": [
      "[0.34854771784232363, 0.566908713692946, 0.5477178423236515, 0.5935684647302905]\n"
     ]
    },
    {
     "data": {
      "image/png": "[encoded data removed]",
      "text/plain": [
       "<Figure size 432x288 with 1 Axes>"
      ]
     },
     "metadata": {
      "needs_background": "light"
     },
     "output_type": "display_data"
    }
   ],
   "source": [
    "# plot accuracy score by pool set\n",
    "print(accuracy_pool_solver)\n",
    "plt.plot(solver_list, accuracy_pool_solver, 'o-')\n",
    "plt.title(\"Model Accuracy under different solvers for pool set\")\n",
    "plt.xlabel(\"Solvers\")\n",
    "plt.ylabel(\"Model Accuracy\")\n",
    "plt.show()"
   ]
  },
  {
   "cell_type": "code",
   "execution_count": 1365,
   "id": "bcf4a381",
   "metadata": {},
   "outputs": [],
   "source": [
    "# choose sag as the solver since it has high accuracy and also more better runtime efficiency compare to newton-cg\n",
    "solver = 'sag'"
   ]
  },
  {
   "cell_type": "code",
   "execution_count": 932,
   "id": "cecabd91",
   "metadata": {},
   "outputs": [
    {
     "name": "stdout",
     "output_type": "stream",
     "text": [
      "0.5224066390041494\n"
     ]
    }
   ],
   "source": [
    "model = SGDClassifier(loss='log')\n",
    "model.fit(X_pool, y_pool)\n",
    "y_pred = model.predict(X_test)\n",
    "scores = metrics.accuracy_score(y_test, y_pred)\n",
    "print(scores)\n",
    "# also tried SGDClassifier(loss='log'), but it has lower accuracy score, so not consider"
   ]
  },
  {
   "cell_type": "markdown",
   "id": "sweet-elephant",
   "metadata": {},
   "source": [
    "## 2. Active learning framework with Random selection"
   ]
  },
  {
   "cell_type": "code",
   "execution_count": 8,
   "id": "ignored-compromise",
   "metadata": {},
   "outputs": [],
   "source": [
    "def random_select(X):\n",
    "    \"\"\"\n",
    "    Given an unlabelled dataset X, a matrix of n x d, \n",
    "    returns a vector of scores of length n. Each entry reflects the priority \n",
    "    of the corresponding instance. Higher means better.\n",
    "    \n",
    "    \"\"\"\n",
    "    \n",
    "    n = len(X)\n",
    "    randnums = np.random.random((n,1))\n",
    "    \n",
    "    return list(randnums)\n",
    "    pass"
   ]
  },
  {
   "cell_type": "code",
   "execution_count": 50,
   "id": "4a1d8441",
   "metadata": {},
   "outputs": [],
   "source": [
    "# modified version for query committee\n",
    "\n",
    "def pool_based_active_learning(X_pool, y_pool, seed_ids,\n",
    "                               train_func, select_func,\n",
    "                               max_size, batch_size, select_method, query_method, **args):\n",
    "    \"\"\"\n",
    "    Perform an active learning simulation, which starts by training on a seed set,\n",
    "    then iteratively applies the selection function to rank instances in the pool,\n",
    "    selects the top few instances which are included into the training set and the\n",
    "    process repeats. \n",
    "        X_pool: matrix of n x d\n",
    "        y_pool: vector of string labels, size n\n",
    "        seed_ids: initial labelled set set, as a list of indices [0..n-1] into pool\n",
    "        train_func: function which given (X, y, optional args) returns a trained model\n",
    "        select_func: function which given (X, optional args) returns a sequence of scores\n",
    "        max_size: stopping condition for active learning, when labelled data reaches given size\n",
    "        batch_size: number of instances to be labelled in each iteration\n",
    "        args: optional arguments passed to training and selection function\n",
    "    returns the sequence of trained models \n",
    "    \"\"\"\n",
    "  \n",
    "    accuracy_record = []\n",
    "    \n",
    "    # construct U, the pool of unlabelled instances and their hidden labels\n",
    "    U_X = []\n",
    "    U_y = []\n",
    "    # construct L, the set of initial labelled instances\n",
    "    L_X = []\n",
    "    L_y = []\n",
    "    \n",
    "    for index in range(len(X_pool)):\n",
    "        if index not in seed_ids:\n",
    "            U_X.append(X_pool[index])\n",
    "            U_y.append(y_pool[index])\n",
    "        else:\n",
    "            L_X.append(X_pool[index])\n",
    "            L_y.append(y_pool[index])\n",
    "\n",
    "    \n",
    "    b = batch_size\n",
    "    T = int(max_size/batch_size)\n",
    "    \n",
    "    \n",
    "    for t in range(0, T):\n",
    "        # selection method\n",
    "        if select_method == \"query_by_committee\":\n",
    "            ensemble1, ensemble2, logmod = train_committee(np.array(L_X), np.array(L_y), 'none', 0.0001, 1.0, 10, 'sag')\n",
    "            theta_t = logmod\n",
    "            if query_method == \"vote_entropy\":\n",
    "                model = [ensemble1, ensemble2]\n",
    "                labels = set(y_pool)\n",
    "                r = select_func(U_X, model, labels)\n",
    "            else:\n",
    "                model = [ensemble1, ensemble2]\n",
    "                r = select_func(U_X, model)\n",
    "        else:\n",
    "            theta_t = train_func(np.array(L_X), np.array(L_y), 'none', 0.0001, 1.0, 10, 'sag')\n",
    "            r = select_func(U_X, theta_t) # random_select\n",
    "            \n",
    "        # find the indices of top b instances in r\n",
    "        max_index = []\n",
    "        for i in range(b):\n",
    "            max_index.append(r.index(max(r)))\n",
    "            r[r.index(max(r))] = 0\n",
    "\n",
    "        for j in max_index:\n",
    "            x_j = U_X[j]\n",
    "            L_X.append(np.array(x_j))\n",
    "            U_X[j] = []\n",
    "            y_j = U_y[j]\n",
    "            L_y.append(np.array(y_j))\n",
    "            U_y[j] = np.nan\n",
    "\n",
    "        U_X = list(np.array(pd.DataFrame(U_X).dropna()))\n",
    "        U_y = list(pd.DataFrame(U_y).dropna().loc[:,0])\n",
    "        \n",
    "        # record the accuracy of model after each iteration\n",
    "        size  = int ((t+1)*b)\n",
    "        score = evaluate_logistic_regression_accuracy(X_test, y_test, theta_t)\n",
    "        accuracy_record.append(score)\n",
    "        print(f\"Accuracy trained based on number of instances = {size+300}:\", score)\n",
    "        \n",
    "    return theta_t, accuracy_record\n",
    "    pass"
   ]
  },
  {
   "cell_type": "code",
   "execution_count": 51,
   "id": "906ae747",
   "metadata": {},
   "outputs": [
    {
     "name": "stdout",
     "output_type": "stream",
     "text": [
      "Accuracy trained based on number of instances = 360: 0.3225103734439834\n",
      "Accuracy trained based on number of instances = 420: 0.34107883817427387\n",
      "Accuracy trained based on number of instances = 480: 0.3412863070539419\n",
      "Accuracy trained based on number of instances = 540: 0.35466804979253114\n",
      "Accuracy trained based on number of instances = 600: 0.36649377593360993\n",
      "Accuracy trained based on number of instances = 660: 0.37344398340248963\n",
      "Accuracy trained based on number of instances = 720: 0.3806016597510373\n",
      "Accuracy trained based on number of instances = 780: 0.38931535269709544\n",
      "Accuracy trained based on number of instances = 840: 0.38973029045643154\n",
      "Accuracy trained based on number of instances = 900: 0.3942946058091286\n",
      "Accuracy trained based on number of instances = 960: 0.3955394190871369\n",
      "Accuracy trained based on number of instances = 1020: 0.404045643153527\n",
      "Accuracy trained based on number of instances = 1080: 0.40612033195020747\n",
      "Accuracy trained based on number of instances = 1140: 0.41369294605809126\n",
      "Accuracy trained based on number of instances = 1200: 0.4186721991701245\n",
      "Accuracy trained based on number of instances = 1260: 0.42728215767634853\n",
      "Accuracy trained based on number of instances = 1320: 0.43101659751037347\n",
      "Accuracy trained based on number of instances = 1380: 0.43091286307053944\n",
      "Accuracy trained based on number of instances = 1440: 0.4371369294605809\n",
      "Accuracy trained based on number of instances = 1500: 0.43641078838174274\n",
      "Accuracy trained based on number of instances = 1560: 0.4425311203319502\n",
      "Accuracy trained based on number of instances = 1620: 0.44450207468879666\n",
      "Accuracy trained based on number of instances = 1680: 0.4470954356846473\n",
      "Accuracy trained based on number of instances = 1740: 0.4521784232365145\n",
      "Accuracy trained based on number of instances = 1800: 0.4487551867219917\n",
      "Accuracy trained based on number of instances = 1860: 0.4566390041493776\n",
      "Accuracy trained based on number of instances = 1920: 0.4516597510373444\n",
      "Accuracy trained based on number of instances = 1980: 0.4553941908713693\n",
      "Accuracy trained based on number of instances = 2040: 0.4631742738589212\n",
      "Accuracy trained based on number of instances = 2100: 0.46649377593360997\n",
      "Accuracy trained based on number of instances = 2160: 0.4653526970954357\n",
      "Accuracy trained based on number of instances = 2220: 0.4683609958506224\n",
      "Accuracy trained based on number of instances = 2280: 0.4696058091286307\n",
      "Accuracy trained based on number of instances = 2340: 0.4730290456431535\n",
      "Accuracy trained based on number of instances = 2400: 0.47406639004149376\n",
      "Accuracy trained based on number of instances = 2460: 0.4770746887966805\n",
      "Accuracy trained based on number of instances = 2520: 0.47769709543568467\n",
      "Accuracy trained based on number of instances = 2580: 0.4773858921161826\n",
      "Accuracy trained based on number of instances = 2640: 0.4807053941908714\n",
      "Accuracy trained based on number of instances = 2700: 0.48184647302904565\n",
      "Accuracy trained based on number of instances = 2760: 0.4857883817427386\n",
      "Accuracy trained based on number of instances = 2820: 0.4819502074688797\n",
      "Accuracy trained based on number of instances = 2880: 0.48402489626556017\n",
      "Accuracy trained based on number of instances = 2940: 0.4849585062240664\n",
      "Accuracy trained based on number of instances = 3000: 0.48609958506224066\n"
     ]
    }
   ],
   "source": [
    "# random_select accuracy\n",
    "max_size = 2700\n",
    "batch = 60\n",
    "models_random, accuracy_randomSelection = pool_based_active_learning(X_pool, y_pool, seed_set, \n",
    "                                    train_logistic_regression, random_select, \n",
    "                                    max_size, batch, \"random_select\", \"none\")"
   ]
  },
  {
   "cell_type": "code",
   "execution_count": 52,
   "id": "941d0299",
   "metadata": {},
   "outputs": [
    {
     "data": {
      "image/png": "[encoded data removed]",
      "text/plain": [
       "<Figure size 432x288 with 1 Axes>"
      ]
     },
     "metadata": {
      "needs_background": "light"
     },
     "output_type": "display_data"
    }
   ],
   "source": [
    "# plot accuracy score by size_list\n",
    "size_list = [i for i in range(0, 2700, 60)]\n",
    "plt.plot(size_list, accuracy_randomSelection, '-')\n",
    "plt.title(\"Model Accuracy under Random Selection vs number of trained instances\")\n",
    "plt.xlabel(\"Number of trained instances\")\n",
    "plt.ylabel(\"Model Accuracy under Random Selection\")\n",
    "plt.show()"
   ]
  },
  {
   "cell_type": "markdown",
   "id": "numerical-novel",
   "metadata": {},
   "source": [
    "## 3. Uncertainty sampling"
   ]
  },
  {
   "cell_type": "code",
   "execution_count": 53,
   "id": "raised-mistress",
   "metadata": {},
   "outputs": [],
   "source": [
    "def logistic_regression_entropy_select(X, model, **args):\n",
    "    \"\"\"\n",
    "    Given an unlabelled dataset X, a matrix of n x d, and a discriminative model \n",
    "    P(y|x), returns a vector of n entropy values.\n",
    "    \n",
    "    Should use intercept and coefficients from logistic regression to calculate the probability\n",
    "    for each class y we have the corresponding intercept and coefficients\n",
    "    \n",
    "    X will be served as Data Frame\n",
    "    \n",
    "    \"\"\"\n",
    "    # fill in\n",
    "\n",
    "    log_matrix = model.predict_proba(pd.DataFrame(X))\n",
    "    entropy = list(pd.DataFrame(-log_matrix*np.log(log_matrix)).sum(axis=1))\n",
    "        \n",
    "    return entropy\n",
    "        \n",
    "    \n",
    "    pass"
   ]
  },
  {
   "cell_type": "code",
   "execution_count": 54,
   "id": "1f807723",
   "metadata": {},
   "outputs": [
    {
     "name": "stdout",
     "output_type": "stream",
     "text": [
      "Accuracy trained based on number of instances = 360: 0.3200207468879668\n",
      "Accuracy trained based on number of instances = 420: 0.3354771784232365\n",
      "Accuracy trained based on number of instances = 480: 0.3411825726141079\n",
      "Accuracy trained based on number of instances = 540: 0.36358921161825725\n",
      "Accuracy trained based on number of instances = 600: 0.3677385892116183\n",
      "Accuracy trained based on number of instances = 660: 0.38029045643153525\n",
      "Accuracy trained based on number of instances = 720: 0.3866182572614108\n",
      "Accuracy trained based on number of instances = 780: 0.3899377593360996\n",
      "Accuracy trained based on number of instances = 840: 0.3862033195020747\n",
      "Accuracy trained based on number of instances = 900: 0.4024896265560166\n",
      "Accuracy trained based on number of instances = 960: 0.4032157676348548\n",
      "Accuracy trained based on number of instances = 1020: 0.40860995850622406\n",
      "Accuracy trained based on number of instances = 1080: 0.4137966804979253\n",
      "Accuracy trained based on number of instances = 1140: 0.4204356846473029\n",
      "Accuracy trained based on number of instances = 1200: 0.4259336099585062\n",
      "Accuracy trained based on number of instances = 1260: 0.42520746887966804\n",
      "Accuracy trained based on number of instances = 1320: 0.4255186721991701\n",
      "Accuracy trained based on number of instances = 1380: 0.4327800829875519\n",
      "Accuracy trained based on number of instances = 1440: 0.43682572614107884\n",
      "Accuracy trained based on number of instances = 1500: 0.437551867219917\n",
      "Accuracy trained based on number of instances = 1560: 0.4438796680497925\n",
      "Accuracy trained based on number of instances = 1620: 0.4469917012448133\n",
      "Accuracy trained based on number of instances = 1680: 0.44771784232365147\n",
      "Accuracy trained based on number of instances = 1740: 0.4519709543568465\n",
      "Accuracy trained based on number of instances = 1800: 0.45529045643153526\n",
      "Accuracy trained based on number of instances = 1860: 0.45902489626556015\n",
      "Accuracy trained based on number of instances = 1920: 0.4580912863070539\n",
      "Accuracy trained based on number of instances = 1980: 0.46224066390041496\n",
      "Accuracy trained based on number of instances = 2040: 0.4644190871369295\n",
      "Accuracy trained based on number of instances = 2100: 0.4649377593360996\n",
      "Accuracy trained based on number of instances = 2160: 0.47064315352697095\n",
      "Accuracy trained based on number of instances = 2220: 0.475207468879668\n",
      "Accuracy trained based on number of instances = 2280: 0.47614107883817425\n",
      "Accuracy trained based on number of instances = 2340: 0.4770746887966805\n",
      "Accuracy trained based on number of instances = 2400: 0.4745850622406639\n",
      "Accuracy trained based on number of instances = 2460: 0.47977178423236516\n",
      "Accuracy trained based on number of instances = 2520: 0.483298755186722\n",
      "Accuracy trained based on number of instances = 2580: 0.48360995850622407\n",
      "Accuracy trained based on number of instances = 2640: 0.48516597510373444\n",
      "Accuracy trained based on number of instances = 2700: 0.48319502074688797\n",
      "Accuracy trained based on number of instances = 2760: 0.48443983402489627\n",
      "Accuracy trained based on number of instances = 2820: 0.48941908713692944\n",
      "Accuracy trained based on number of instances = 2880: 0.4936721991701245\n",
      "Accuracy trained based on number of instances = 2940: 0.4939834024896266\n",
      "Accuracy trained based on number of instances = 3000: 0.4945020746887967\n"
     ]
    }
   ],
   "source": [
    "# entropy_select accuracy\n",
    "max_size = 2700\n",
    "batch = 60\n",
    "models_us, accuracy_us = pool_based_active_learning(X_pool, y_pool, seed_set, \n",
    "                                 train_logistic_regression, \n",
    "                                 logistic_regression_entropy_select, \n",
    "                                 max_size, batch, \"entropy_select\", \"none\")"
   ]
  },
  {
   "cell_type": "code",
   "execution_count": 69,
   "id": "ca6ac8d7",
   "metadata": {},
   "outputs": [
    {
     "data": {
      "image/png": "[encoded data removed]",
      "text/plain": [
       "<Figure size 432x288 with 1 Axes>"
      ]
     },
     "metadata": {
      "needs_background": "light"
     },
     "output_type": "display_data"
    }
   ],
   "source": [
    "# plot accuracy score by size_list\n",
    "size_list = [i for i in range(0, 2700, 60)]\n",
    "run_list = [int(size/60)+1 for size in size_list]\n",
    "plt.plot(run_list, accuracy_us, '-')\n",
    "plt.title(\"Model Accuracy under Entropy Selection vs number of running loops\")\n",
    "plt.xlabel(\"Number of running loops\")\n",
    "plt.ylabel(\"Model Accuracy under Entropy Selection\")\n",
    "plt.show()"
   ]
  },
  {
   "cell_type": "markdown",
   "id": "diverse-taxation",
   "metadata": {},
   "source": [
    "## 4. Query by committee"
   ]
  },
  {
   "cell_type": "code",
   "execution_count": 56,
   "id": "7888d7bb",
   "metadata": {},
   "outputs": [],
   "source": [
    "# don't forget to provide function descriptive comments, like those provided in templates above"
   ]
  },
  {
   "cell_type": "code",
   "execution_count": 57,
   "id": "handy-water",
   "metadata": {},
   "outputs": [],
   "source": [
    "def query_by_committee_vote_entropy(X, model, labels, **args):\n",
    "    \n",
    "    \"\"\"\n",
    "    Given an unlabelled dataset X, a matrix of n x d, and a discriminative model \n",
    "    P(y|x), returns a vector of n vote entropy values.\n",
    "    \n",
    "    C = number of models\n",
    "    \n",
    "    Need to use C number of models to predict instances in X.\n",
    "    Then for different classes of y, calculate the vote and sum them up.\n",
    "    Assume argument model contains two models. \n",
    "    \n",
    "    Arugment 'labels': a list of unique possible labels\n",
    "    \n",
    "    \"\"\"\n",
    "    \n",
    "    X = pd.DataFrame(X)\n",
    "    vote_entropy = []\n",
    "    \n",
    "    # get members in committee\n",
    "    model1 = model[0]\n",
    "    model2 = model[1]\n",
    "    \n",
    "    # use models to make predictions on the unlabelled dataset X\n",
    "    classification1 = model1.predict(X)\n",
    "    classification2 = model2.predict(X)\n",
    "\n",
    "    # loop over each instances in X, calculate their corresponding vote entropy\n",
    "    for i in range(len(X)):\n",
    "        \n",
    "        # create a dictionary to track the vote\n",
    "        dic = dict.fromkeys(labels, 0)\n",
    "        \n",
    "        predic1 = classification1[i]\n",
    "        predic2 = classification2[i]\n",
    "        \n",
    "        \n",
    "        dic[predic1] = dic[predic1] + 1\n",
    "        dic[predic2] = dic[predic2] + 1\n",
    "        \n",
    "        entropy = 0\n",
    "        for vote in dic.values():\n",
    "            if vote != 0:\n",
    "                entropy = entropy + (vote/2)*np.log(vote/2)\n",
    "            \n",
    "        vote_entropy.append(-entropy)\n",
    "        \n",
    "    return vote_entropy\n",
    "\n",
    "    pass\n"
   ]
  },
  {
   "cell_type": "code",
   "execution_count": 58,
   "id": "875a8bfb",
   "metadata": {},
   "outputs": [],
   "source": [
    "def query_by_committee_soft_vote_entropy(X, model, **args):\n",
    "    \n",
    "    \"\"\"\n",
    "    Given an unlabelled dataset X, a matrix of n x d, and a discriminative model \n",
    "    P(y|x), returns a vector of n soft vote entropy values.\n",
    "    \n",
    "    Argument model contains two sets of parameters (intercept, coefficient) of 2 different models\n",
    "    \n",
    "    C = 2: number of committee\n",
    "    \n",
    "    \"\"\"\n",
    "\n",
    "    svm = model[0]\n",
    "    logmod = model[1]\n",
    "    \n",
    "    svm_matrix = svm.predict_proba(pd.DataFrame(X))\n",
    "    log_matrix = logmod.predict_proba(pd.DataFrame(X))\n",
    "    soft_vote_entropy = list(pd.DataFrame(-((log_matrix+svm_matrix)/2)*np.log((log_matrix+svm_matrix)/2)).sum(axis=1))\n",
    "    \n",
    "    return soft_vote_entropy\n",
    "    \n",
    "    pass\n"
   ]
  },
  {
   "cell_type": "code",
   "execution_count": 59,
   "id": "37860de2",
   "metadata": {},
   "outputs": [],
   "source": [
    "def query_by_committee_KL(X, model, **args):\n",
    "    \n",
    "    \"\"\"\n",
    "    Given an unlabelled dataset X, a matrix of n x d, and a discriminative model \n",
    "    P(y|x), returns a vector of n soft vote entropy values.\n",
    "    \n",
    "    Argument model contains 2 different models\n",
    "    \n",
    "    C = 2: number of committee\n",
    "    \n",
    "    \"\"\"\n",
    "    \n",
    "    X = pd.DataFrame(X)\n",
    "    \n",
    "    svm = model[0]\n",
    "    logmod = model[1]\n",
    "    \n",
    "    svm_matrix = svm.predict_proba(pd.DataFrame(X))\n",
    "    log_matrix = logmod.predict_proba(pd.DataFrame(X))\n",
    "    \n",
    "    KL_divergence_svm = pd.DataFrame(svm_matrix*np.log(svm_matrix/((log_matrix+svm_matrix)/2))).sum(axis=1)\n",
    "    KL_divergence_log = pd.DataFrame(log_matrix*np.log(log_matrix/((log_matrix+svm_matrix)/2))).sum(axis=1)\n",
    "    KL_divergence = list(np.array(KL_divergence_svm)+np.array(KL_divergence_log)/2)\n",
    "\n",
    "    return KL_divergence\n",
    "\n",
    "    pass"
   ]
  },
  {
   "cell_type": "code",
   "execution_count": 60,
   "id": "cfd259ac",
   "metadata": {},
   "outputs": [],
   "source": [
    "## train_committee: learn 2 models to form the committee\n",
    "## use the committee to do data selection based on the above 3 methods\n",
    "## use the selected data to evaluate the accuracy of logistic regression"
   ]
  },
  {
   "cell_type": "code",
   "execution_count": 61,
   "id": "continued-clothing",
   "metadata": {},
   "outputs": [],
   "source": [
    "def train_committee(X, y, penalty, tol, C, max_iter, solver):\n",
    "    \n",
    "    \"\"\"\n",
    "    Train a logistic regression model on dataset (X, y) and return trained model.\n",
    "    X: matrix of real values, size n x d\n",
    "    y: vector of string labels, size n\n",
    "    Could return two models:\n",
    "    – the ensemble and the standard logistic regression model as a tuple \n",
    "    i.e., return (model1, model2)\n",
    "    \"\"\"\n",
    "\n",
    "    ensemble1 = svm.SVC(probability=True, max_iter=200)\n",
    "    ensemble1.fit(X,y)\n",
    "    \n",
    "    ensemble2 = LogisticRegression(multi_class='multinomial', max_iter = 10, solver='saga')\n",
    "    ensemble2.fit(X,y)\n",
    "        \n",
    "    logmod = LogisticRegression(penalty='none',tol = tol, C = C, multi_class='multinomial', solver=solver, max_iter = max_iter)\n",
    "    logmod.fit(X,y)\n",
    "    \n",
    "    return (ensemble1, ensemble2, logmod)\n",
    "\n",
    "    pass"
   ]
  },
  {
   "cell_type": "code",
   "execution_count": 62,
   "id": "south-smooth",
   "metadata": {},
   "outputs": [],
   "source": [
    "## your code here for training, evaluation, and plotting code"
   ]
  },
  {
   "cell_type": "code",
   "execution_count": 63,
   "id": "230ce1f8",
   "metadata": {},
   "outputs": [],
   "source": [
    "size_list = [i for i in range(0, 2700, 60)]\n",
    "run_list = [int(size/60)+1 for size in size_list]"
   ]
  },
  {
   "cell_type": "code",
   "execution_count": 64,
   "id": "5258eb43",
   "metadata": {},
   "outputs": [
    {
     "name": "stdout",
     "output_type": "stream",
     "text": [
      "Accuracy trained based on number of instances = 360: 0.3240663900414938\n",
      "Accuracy trained based on number of instances = 420: 0.33755186721991703\n",
      "Accuracy trained based on number of instances = 480: 0.3523858921161826\n",
      "Accuracy trained based on number of instances = 540: 0.3685684647302905\n",
      "Accuracy trained based on number of instances = 600: 0.3698132780082988\n",
      "Accuracy trained based on number of instances = 660: 0.3860995850622407\n",
      "Accuracy trained based on number of instances = 720: 0.3877593360995851\n",
      "Accuracy trained based on number of instances = 780: 0.39927385892116185\n",
      "Accuracy trained based on number of instances = 840: 0.4059128630705394\n",
      "Accuracy trained based on number of instances = 900: 0.4067427385892116\n",
      "Accuracy trained based on number of instances = 960: 0.41431535269709546\n",
      "Accuracy trained based on number of instances = 1020: 0.4190871369294606\n",
      "Accuracy trained based on number of instances = 1080: 0.42365145228215767\n",
      "Accuracy trained based on number of instances = 1140: 0.4266597510373444\n",
      "Accuracy trained based on number of instances = 1200: 0.43101659751037347\n",
      "Accuracy trained based on number of instances = 1260: 0.43215767634854774\n",
      "Accuracy trained based on number of instances = 1320: 0.43558091286307055\n",
      "Accuracy trained based on number of instances = 1380: 0.43900414937759336\n",
      "Accuracy trained based on number of instances = 1440: 0.44273858921161824\n",
      "Accuracy trained based on number of instances = 1500: 0.44356846473029043\n",
      "Accuracy trained based on number of instances = 1560: 0.4490663900414938\n",
      "Accuracy trained based on number of instances = 1620: 0.4553941908713693\n",
      "Accuracy trained based on number of instances = 1680: 0.4579875518672199\n",
      "Accuracy trained based on number of instances = 1740: 0.46390041493775935\n",
      "Accuracy trained based on number of instances = 1800: 0.4648340248962656\n",
      "Accuracy trained based on number of instances = 1860: 0.4691908713692946\n",
      "Accuracy trained based on number of instances = 1920: 0.4705394190871369\n",
      "Accuracy trained based on number of instances = 1980: 0.4764522821576763\n",
      "Accuracy trained based on number of instances = 2040: 0.4725103734439834\n",
      "Accuracy trained based on number of instances = 2100: 0.47354771784232363\n",
      "Accuracy trained based on number of instances = 2160: 0.4756224066390041\n",
      "Accuracy trained based on number of instances = 2220: 0.48018672199170126\n",
      "Accuracy trained based on number of instances = 2280: 0.4802904564315353\n",
      "Accuracy trained based on number of instances = 2340: 0.48018672199170126\n",
      "Accuracy trained based on number of instances = 2400: 0.4905601659751037\n",
      "Accuracy trained based on number of instances = 2460: 0.4866182572614108\n",
      "Accuracy trained based on number of instances = 2520: 0.48692946058091285\n",
      "Accuracy trained based on number of instances = 2580: 0.4941908713692946\n",
      "Accuracy trained based on number of instances = 2640: 0.49564315352697097\n",
      "Accuracy trained based on number of instances = 2700: 0.4994813278008299\n",
      "Accuracy trained based on number of instances = 2760: 0.4982365145228216\n",
      "Accuracy trained based on number of instances = 2820: 0.5011410788381743\n",
      "Accuracy trained based on number of instances = 2880: 0.504253112033195\n",
      "Accuracy trained based on number of instances = 2940: 0.504460580912863\n",
      "Accuracy trained based on number of instances = 3000: 0.5037344398340249\n"
     ]
    }
   ],
   "source": [
    "# vote_entropy\n",
    "max_size = 2700\n",
    "batch = 60\n",
    "models_us, accuracy_vote_entropy = pool_based_active_learning(X_pool, y_pool, seed_set, \n",
    "                                     train_committee, \n",
    "                                     query_by_committee_vote_entropy, \n",
    "                                     max_size, batch, \"query_by_committee\", \"vote_entropy\")"
   ]
  },
  {
   "cell_type": "code",
   "execution_count": 65,
   "id": "4529e8ea",
   "metadata": {},
   "outputs": [
    {
     "name": "stdout",
     "output_type": "stream",
     "text": [
      "Accuracy trained based on number of instances = 360: 0.3179460580912863\n",
      "Accuracy trained based on number of instances = 420: 0.33807053941908716\n",
      "Accuracy trained based on number of instances = 480: 0.3476141078838174\n",
      "Accuracy trained based on number of instances = 540: 0.36804979253112036\n",
      "Accuracy trained based on number of instances = 600: 0.37230290456431536\n",
      "Accuracy trained based on number of instances = 660: 0.3796680497925311\n",
      "Accuracy trained based on number of instances = 720: 0.3821576763485477\n",
      "Accuracy trained based on number of instances = 780: 0.391597510373444\n",
      "Accuracy trained based on number of instances = 840: 0.39699170124481326\n",
      "Accuracy trained based on number of instances = 900: 0.4024896265560166\n",
      "Accuracy trained based on number of instances = 960: 0.4046680497925311\n",
      "Accuracy trained based on number of instances = 1020: 0.4062240663900415\n",
      "Accuracy trained based on number of instances = 1080: 0.41514522821576766\n",
      "Accuracy trained based on number of instances = 1140: 0.41815352697095437\n",
      "Accuracy trained based on number of instances = 1200: 0.4230290456431535\n",
      "Accuracy trained based on number of instances = 1260: 0.42188796680497925\n",
      "Accuracy trained based on number of instances = 1320: 0.4280082987551867\n",
      "Accuracy trained based on number of instances = 1380: 0.43651452282157677\n",
      "Accuracy trained based on number of instances = 1440: 0.4409751037344398\n",
      "Accuracy trained based on number of instances = 1500: 0.44284232365145226\n",
      "Accuracy trained based on number of instances = 1560: 0.43599585062240664\n",
      "Accuracy trained based on number of instances = 1620: 0.44284232365145226\n",
      "Accuracy trained based on number of instances = 1680: 0.45093360995850623\n",
      "Accuracy trained based on number of instances = 1740: 0.45145228215767635\n",
      "Accuracy trained based on number of instances = 1800: 0.45103734439834026\n",
      "Accuracy trained based on number of instances = 1860: 0.4558091286307054\n",
      "Accuracy trained based on number of instances = 1920: 0.4605809128630705\n",
      "Accuracy trained based on number of instances = 1980: 0.46265560165975106\n",
      "Accuracy trained based on number of instances = 2040: 0.4601659751037344\n",
      "Accuracy trained based on number of instances = 2100: 0.46338174273858923\n",
      "Accuracy trained based on number of instances = 2160: 0.46929460580912863\n",
      "Accuracy trained based on number of instances = 2220: 0.4712655601659751\n",
      "Accuracy trained based on number of instances = 2280: 0.4721991701244813\n",
      "Accuracy trained based on number of instances = 2340: 0.47271784232365144\n",
      "Accuracy trained based on number of instances = 2400: 0.4770746887966805\n",
      "Accuracy trained based on number of instances = 2460: 0.4807053941908714\n",
      "Accuracy trained based on number of instances = 2520: 0.47966804979253114\n",
      "Accuracy trained based on number of instances = 2580: 0.4808091286307054\n",
      "Accuracy trained based on number of instances = 2640: 0.4863070539419087\n",
      "Accuracy trained based on number of instances = 2700: 0.48568464730290456\n",
      "Accuracy trained based on number of instances = 2760: 0.483298755186722\n",
      "Accuracy trained based on number of instances = 2820: 0.4913900414937759\n",
      "Accuracy trained based on number of instances = 2880: 0.4872406639004149\n",
      "Accuracy trained based on number of instances = 2940: 0.4854771784232365\n",
      "Accuracy trained based on number of instances = 3000: 0.49522821576763487\n"
     ]
    }
   ],
   "source": [
    "# soft_vote_entropy\n",
    "max_size = 2700\n",
    "batch = 60\n",
    "models_us, accuracy_soft_vote_entropy = pool_based_active_learning(X_pool, y_pool, seed_set, \n",
    "                                     train_committee, \n",
    "                                     query_by_committee_soft_vote_entropy, \n",
    "                                     max_size, batch, \"query_by_committee\", \"soft_vote_entropy\")"
   ]
  },
  {
   "cell_type": "code",
   "execution_count": 66,
   "id": "d83a016b",
   "metadata": {},
   "outputs": [
    {
     "name": "stdout",
     "output_type": "stream",
     "text": [
      "Accuracy trained based on number of instances = 360: 0.3192946058091286\n",
      "Accuracy trained based on number of instances = 420: 0.3266597510373444\n",
      "Accuracy trained based on number of instances = 480: 0.3216804979253112\n",
      "Accuracy trained based on number of instances = 540: 0.33236514522821575\n",
      "Accuracy trained based on number of instances = 600: 0.3369294605809129\n",
      "Accuracy trained based on number of instances = 660: 0.3440871369294606\n",
      "Accuracy trained based on number of instances = 720: 0.3471991701244813\n",
      "Accuracy trained based on number of instances = 780: 0.3592323651452282\n",
      "Accuracy trained based on number of instances = 840: 0.36182572614107883\n",
      "Accuracy trained based on number of instances = 900: 0.3646265560165975\n",
      "Accuracy trained based on number of instances = 960: 0.374896265560166\n",
      "Accuracy trained based on number of instances = 1020: 0.3771784232365145\n",
      "Accuracy trained based on number of instances = 1080: 0.3767634854771784\n",
      "Accuracy trained based on number of instances = 1140: 0.3878630705394191\n",
      "Accuracy trained based on number of instances = 1200: 0.3938796680497925\n",
      "Accuracy trained based on number of instances = 1260: 0.3900414937759336\n",
      "Accuracy trained based on number of instances = 1320: 0.3977178423236514\n",
      "Accuracy trained based on number of instances = 1380: 0.40020746887966807\n",
      "Accuracy trained based on number of instances = 1440: 0.41109958506224065\n",
      "Accuracy trained based on number of instances = 1500: 0.4175311203319502\n",
      "Accuracy trained based on number of instances = 1560: 0.42147302904564315\n",
      "Accuracy trained based on number of instances = 1620: 0.42946058091286304\n",
      "Accuracy trained based on number of instances = 1680: 0.43018672199170127\n",
      "Accuracy trained based on number of instances = 1740: 0.43392116182572615\n",
      "Accuracy trained based on number of instances = 1800: 0.43558091286307055\n",
      "Accuracy trained based on number of instances = 1860: 0.4407676348547718\n",
      "Accuracy trained based on number of instances = 1920: 0.441804979253112\n",
      "Accuracy trained based on number of instances = 1980: 0.4392116182572614\n",
      "Accuracy trained based on number of instances = 2040: 0.4466804979253112\n",
      "Accuracy trained based on number of instances = 2100: 0.4451244813278008\n",
      "Accuracy trained based on number of instances = 2160: 0.44968879668049794\n",
      "Accuracy trained based on number of instances = 2220: 0.44844398340248964\n",
      "Accuracy trained based on number of instances = 2280: 0.45653526970954356\n",
      "Accuracy trained based on number of instances = 2340: 0.45394190871369294\n",
      "Accuracy trained based on number of instances = 2400: 0.46078838174273856\n",
      "Accuracy trained based on number of instances = 2460: 0.46566390041493777\n",
      "Accuracy trained based on number of instances = 2520: 0.4690871369294606\n",
      "Accuracy trained based on number of instances = 2580: 0.46815352697095436\n",
      "Accuracy trained based on number of instances = 2640: 0.4687759336099585\n",
      "Accuracy trained based on number of instances = 2700: 0.4695020746887967\n",
      "Accuracy trained based on number of instances = 2760: 0.47437759336099583\n",
      "Accuracy trained based on number of instances = 2820: 0.4787344398340249\n",
      "Accuracy trained based on number of instances = 2880: 0.47966804979253114\n",
      "Accuracy trained based on number of instances = 2940: 0.4816390041493776\n",
      "Accuracy trained based on number of instances = 3000: 0.4820539419087137\n"
     ]
    }
   ],
   "source": [
    "# KL test\n",
    "max_size = 2700\n",
    "batch = 60\n",
    "models_us, accuracy_KL = pool_based_active_learning(X_pool, y_pool, seed_set, \n",
    "                                     train_committee, \n",
    "                                     query_by_committee_KL, \n",
    "                                     max_size, batch, \"query_by_committee\", \"KL\")"
   ]
  },
  {
   "cell_type": "code",
   "execution_count": 67,
   "id": "e629fba1",
   "metadata": {},
   "outputs": [],
   "source": [
    "size_list = [i for i in range(0, 2700, 60)]\n",
    "run_list = [int(size/60)+1 for size in size_list]"
   ]
  },
  {
   "cell_type": "code",
   "execution_count": 70,
   "id": "857630de",
   "metadata": {},
   "outputs": [
    {
     "data": {
      "image/png": "[encoded data removed]",
      "text/plain": [
       "<Figure size 432x288 with 1 Axes>"
      ]
     },
     "metadata": {
      "needs_background": "light"
     },
     "output_type": "display_data"
    }
   ],
   "source": [
    "plt.plot(run_list, accuracy_vote_entropy, 'b-', label = \"vote_entropy\")\n",
    "plt.plot(run_list, accuracy_soft_vote_entropy, 'g-', label = \"soft_vote_entropy\")\n",
    "plt.plot(run_list, accuracy_KL, 'r-', label = \"KL_Divergence\")\n",
    "plt.title(\"Model Accuracy under Query by Committee vs number of iterations\")\n",
    "plt.xlabel(\"Number of iterations\")\n",
    "plt.ylabel(\"Model Accuracy under Query by Committee\")\n",
    "plt.legend()\n",
    "plt.show()"
   ]
  }
 ],
 "metadata": {
  "kernelspec": {
   "display_name": "Python 3",
   "language": "python",
   "name": "python3"
  },
  "language_info": {
   "codemirror_mode": {
    "name": "ipython",
    "version": 3
   },
   "file_extension": ".py",
   "mimetype": "text/x-python",
   "name": "python",
   "nbconvert_exporter": "python",
   "pygments_lexer": "ipython3",
   "version": "3.8.8"
  }
 },
 "nbformat": 4,
 "nbformat_minor": 5
}
